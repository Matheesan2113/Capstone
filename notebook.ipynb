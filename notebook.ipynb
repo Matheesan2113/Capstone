{
 "cells": [
  {
   "cell_type": "markdown",
   "metadata": {},
   "source": [
    "# Imports"
   ]
  },
  {
   "cell_type": "code",
   "execution_count": 1,
   "metadata": {},
   "outputs": [
    {
     "name": "stderr",
     "output_type": "stream",
     "text": [
      "c:\\python\\lib\\site-packages\\gensim\\utils.py:1212: UserWarning: detected Windows; aliasing chunkize to chunkize_serial\n",
      "  warnings.warn(\"detected Windows; aliasing chunkize to chunkize_serial\")\n",
      "c:\\python\\lib\\importlib\\_bootstrap.py:219: RuntimeWarning: cymem.cymem.Pool size changed, may indicate binary incompatibility. Expected 48 from C header, got 64 from PyObject\n",
      "  return f(*args, **kwds)\n",
      "c:\\python\\lib\\importlib\\_bootstrap.py:219: RuntimeWarning: cymem.cymem.Address size changed, may indicate binary incompatibility. Expected 24 from C header, got 40 from PyObject\n",
      "  return f(*args, **kwds)\n"
     ]
    }
   ],
   "source": [
    "import os\n",
    "import re\n",
    "import glob\n",
    "import json\n",
    "import numpy as numpy\n",
    "import pandas as pd\n",
    "from pprint import pprint \n",
    "\n",
    "#Gensim\n",
    "import gensim\n",
    "import gensim.corpora as corpora\n",
    "from gensim.utils import simple_preprocess\n",
    "from gensim.models import CoherenceModel\n",
    "#Spacy for lemmatization\n",
    "import spacy\n",
    "\n",
    "#Plotting tools\n",
    "import pyLDAvis\n",
    "import pyLDAvis.gensim #Important\n",
    "import matplotlib.pyplot as plt \n",
    "#%matplotlib inline\n",
    "\n",
    "#Enable logging for gensim\n",
    "import logging\n",
    "logging.basicConfig(format='%(asctime)s : %(levelname)s : %(message)s', level=logging.ERROR)\n",
    "\n",
    "import warnings\n",
    "warnings.filterwarnings(\"ignore\", category=DeprecationWarning)"
   ]
  },
  {
   "cell_type": "markdown",
   "metadata": {},
   "source": [
    "# Stopwords"
   ]
  },
  {
   "cell_type": "code",
   "execution_count": 2,
   "metadata": {},
   "outputs": [],
   "source": [
    "#NLTK stop words\n",
    "from nltk.corpus import stopwords\n",
    "stop_words= stopwords.words('english')\n",
    "stop_words.extend(['from','subject','re','edu','use'])"
   ]
  },
  {
   "cell_type": "markdown",
   "metadata": {},
   "source": [
    "#### Import Dataset"
   ]
  },
  {
   "cell_type": "code",
   "execution_count": 3,
   "metadata": {},
   "outputs": [
    {
     "name": "stdout",
     "output_type": "stream",
     "text": [
      "['女の子戦争が始まらない……。' '@NMqZr18SRFKBX40 座るとコルセットが肋骨に刺さります……(；´Д`）'\n",
      " \"RT @moomoonbyul: Omg I didn't realised their rainbow blanket!!!!! They bring it to hk! \\n#마마무 #솔라 #문별 #용콩별콩 https://t.co/8OlKoFGnvY\"\n",
      " ...\n",
      " 'RT @SonandoRoock: Que mimo al alma escuchar lo que significamos para alguien.'\n",
      " 'だっかっらっ砂糖水飲めないんだよおおおおおお😭😭😭まじ、なにはすの何味とかミルクティー味の水とかこわすぎ普通にクリスタルガイザーかフィジーが絶対正義\\nhttps://t.co/VShn9kIRsr'\n",
      " '♩#NowPlaying 99.5FM KHEA Radio by https://t.co/SKiha1owgm https://t.co/SKiha1owgm https://t.co/SHmD5H8Ztv']\n"
     ]
    },
    {
     "data": {
      "text/html": [
       "<div>\n",
       "<style scoped>\n",
       "    .dataframe tbody tr th:only-of-type {\n",
       "        vertical-align: middle;\n",
       "    }\n",
       "\n",
       "    .dataframe tbody tr th {\n",
       "        vertical-align: top;\n",
       "    }\n",
       "\n",
       "    .dataframe thead th {\n",
       "        text-align: right;\n",
       "    }\n",
       "</style>\n",
       "<table border=\"1\" class=\"dataframe\">\n",
       "  <thead>\n",
       "    <tr style=\"text-align: right;\">\n",
       "      <th></th>\n",
       "      <th>contributors</th>\n",
       "      <th>coordinates</th>\n",
       "      <th>created_at</th>\n",
       "      <th>delete</th>\n",
       "      <th>display_text_range</th>\n",
       "      <th>entities</th>\n",
       "      <th>extended_entities</th>\n",
       "      <th>extended_tweet</th>\n",
       "      <th>favorite_count</th>\n",
       "      <th>favorited</th>\n",
       "      <th>...</th>\n",
       "      <th>quoted_status_id_str</th>\n",
       "      <th>reply_count</th>\n",
       "      <th>retweet_count</th>\n",
       "      <th>retweeted</th>\n",
       "      <th>retweeted_status</th>\n",
       "      <th>source</th>\n",
       "      <th>text</th>\n",
       "      <th>timestamp_ms</th>\n",
       "      <th>truncated</th>\n",
       "      <th>user</th>\n",
       "    </tr>\n",
       "  </thead>\n",
       "  <tbody>\n",
       "    <tr>\n",
       "      <th>0</th>\n",
       "      <td>NaN</td>\n",
       "      <td>None</td>\n",
       "      <td>2017-11-09 10:59:00</td>\n",
       "      <td>NaN</td>\n",
       "      <td>NaN</td>\n",
       "      <td>{'hashtags': [], 'urls': [], 'user_mentions': ...</td>\n",
       "      <td>NaN</td>\n",
       "      <td>NaN</td>\n",
       "      <td>0.0</td>\n",
       "      <td>0.0</td>\n",
       "      <td>...</td>\n",
       "      <td>NaN</td>\n",
       "      <td>0.0</td>\n",
       "      <td>0.0</td>\n",
       "      <td>0.0</td>\n",
       "      <td>NaN</td>\n",
       "      <td>&lt;a href=\"http://twitter.com/download/android\" ...</td>\n",
       "      <td>女の子戦争が始まらない……。</td>\n",
       "      <td>2017-11-09 10:59:00.660</td>\n",
       "      <td>0.0</td>\n",
       "      <td>{'id': 885564598073442308, 'id_str': '88556459...</td>\n",
       "    </tr>\n",
       "    <tr>\n",
       "      <th>1</th>\n",
       "      <td>NaN</td>\n",
       "      <td>None</td>\n",
       "      <td>2017-11-09 10:59:00</td>\n",
       "      <td>NaN</td>\n",
       "      <td>[17, 42]</td>\n",
       "      <td>{'hashtags': [], 'urls': [], 'user_mentions': ...</td>\n",
       "      <td>NaN</td>\n",
       "      <td>NaN</td>\n",
       "      <td>0.0</td>\n",
       "      <td>0.0</td>\n",
       "      <td>...</td>\n",
       "      <td>NaN</td>\n",
       "      <td>0.0</td>\n",
       "      <td>0.0</td>\n",
       "      <td>0.0</td>\n",
       "      <td>NaN</td>\n",
       "      <td>&lt;a href=\"http://twitter.com/download/iphone\" r...</td>\n",
       "      <td>@NMqZr18SRFKBX40 座るとコルセットが肋骨に刺さります……(；´Д`）</td>\n",
       "      <td>2017-11-09 10:59:00.658</td>\n",
       "      <td>0.0</td>\n",
       "      <td>{'id': 4836244501, 'id_str': '4836244501', 'na...</td>\n",
       "    </tr>\n",
       "    <tr>\n",
       "      <th>2</th>\n",
       "      <td>NaN</td>\n",
       "      <td>None</td>\n",
       "      <td>2017-11-09 10:59:00</td>\n",
       "      <td>NaN</td>\n",
       "      <td>NaN</td>\n",
       "      <td>{'hashtags': [{'text': '마마무', 'indices': [88, ...</td>\n",
       "      <td>{'media': [{'id': 927099894350757895, 'id_str'...</td>\n",
       "      <td>NaN</td>\n",
       "      <td>0.0</td>\n",
       "      <td>0.0</td>\n",
       "      <td>...</td>\n",
       "      <td>NaN</td>\n",
       "      <td>0.0</td>\n",
       "      <td>0.0</td>\n",
       "      <td>0.0</td>\n",
       "      <td>{'created_at': 'Sun Nov 05 09:07:19 +0000 2017...</td>\n",
       "      <td>&lt;a href=\"http://twitter.com/download/android\" ...</td>\n",
       "      <td>RT @moomoonbyul: Omg I didn't realised their r...</td>\n",
       "      <td>2017-11-09 10:59:00.657</td>\n",
       "      <td>0.0</td>\n",
       "      <td>{'id': 766092388494368768, 'id_str': '76609238...</td>\n",
       "    </tr>\n",
       "    <tr>\n",
       "      <th>3</th>\n",
       "      <td>NaN</td>\n",
       "      <td>None</td>\n",
       "      <td>2017-11-09 10:59:00</td>\n",
       "      <td>NaN</td>\n",
       "      <td>[9, 35]</td>\n",
       "      <td>{'hashtags': [], 'urls': [], 'user_mentions': ...</td>\n",
       "      <td>NaN</td>\n",
       "      <td>NaN</td>\n",
       "      <td>0.0</td>\n",
       "      <td>0.0</td>\n",
       "      <td>...</td>\n",
       "      <td>NaN</td>\n",
       "      <td>0.0</td>\n",
       "      <td>0.0</td>\n",
       "      <td>0.0</td>\n",
       "      <td>NaN</td>\n",
       "      <td>&lt;a href=\"http://twitter.com/download/android\" ...</td>\n",
       "      <td>@ko180ex おめでとうございます🙌🎉😊\\n自分は県内枠で行きます🙌</td>\n",
       "      <td>2017-11-09 10:59:00.664</td>\n",
       "      <td>0.0</td>\n",
       "      <td>{'id': 743778210437955584, 'id_str': '74377821...</td>\n",
       "    </tr>\n",
       "    <tr>\n",
       "      <th>4</th>\n",
       "      <td>NaN</td>\n",
       "      <td>None</td>\n",
       "      <td>2017-11-09 10:59:00</td>\n",
       "      <td>NaN</td>\n",
       "      <td>NaN</td>\n",
       "      <td>{'hashtags': [], 'urls': [], 'user_mentions': ...</td>\n",
       "      <td>NaN</td>\n",
       "      <td>NaN</td>\n",
       "      <td>0.0</td>\n",
       "      <td>0.0</td>\n",
       "      <td>...</td>\n",
       "      <td>NaN</td>\n",
       "      <td>0.0</td>\n",
       "      <td>0.0</td>\n",
       "      <td>0.0</td>\n",
       "      <td>NaN</td>\n",
       "      <td>&lt;a href=\"http://twitter.com/download/android\" ...</td>\n",
       "      <td>もう一回潜りに行こうかな？どのみちサブカ対面だし</td>\n",
       "      <td>2017-11-09 10:59:00.662</td>\n",
       "      <td>0.0</td>\n",
       "      <td>{'id': 873200024913444864, 'id_str': '87320002...</td>\n",
       "    </tr>\n",
       "  </tbody>\n",
       "</table>\n",
       "<p>5 rows × 36 columns</p>\n",
       "</div>"
      ],
      "text/plain": [
       "   contributors coordinates          created_at delete display_text_range  \\\n",
       "0           NaN        None 2017-11-09 10:59:00    NaN                NaN   \n",
       "1           NaN        None 2017-11-09 10:59:00    NaN           [17, 42]   \n",
       "2           NaN        None 2017-11-09 10:59:00    NaN                NaN   \n",
       "3           NaN        None 2017-11-09 10:59:00    NaN            [9, 35]   \n",
       "4           NaN        None 2017-11-09 10:59:00    NaN                NaN   \n",
       "\n",
       "                                            entities  \\\n",
       "0  {'hashtags': [], 'urls': [], 'user_mentions': ...   \n",
       "1  {'hashtags': [], 'urls': [], 'user_mentions': ...   \n",
       "2  {'hashtags': [{'text': '마마무', 'indices': [88, ...   \n",
       "3  {'hashtags': [], 'urls': [], 'user_mentions': ...   \n",
       "4  {'hashtags': [], 'urls': [], 'user_mentions': ...   \n",
       "\n",
       "                                   extended_entities extended_tweet  \\\n",
       "0                                                NaN            NaN   \n",
       "1                                                NaN            NaN   \n",
       "2  {'media': [{'id': 927099894350757895, 'id_str'...            NaN   \n",
       "3                                                NaN            NaN   \n",
       "4                                                NaN            NaN   \n",
       "\n",
       "   favorite_count  favorited  \\\n",
       "0             0.0        0.0   \n",
       "1             0.0        0.0   \n",
       "2             0.0        0.0   \n",
       "3             0.0        0.0   \n",
       "4             0.0        0.0   \n",
       "\n",
       "                         ...                         quoted_status_id_str  \\\n",
       "0                        ...                                          NaN   \n",
       "1                        ...                                          NaN   \n",
       "2                        ...                                          NaN   \n",
       "3                        ...                                          NaN   \n",
       "4                        ...                                          NaN   \n",
       "\n",
       "  reply_count  retweet_count  retweeted  \\\n",
       "0         0.0            0.0        0.0   \n",
       "1         0.0            0.0        0.0   \n",
       "2         0.0            0.0        0.0   \n",
       "3         0.0            0.0        0.0   \n",
       "4         0.0            0.0        0.0   \n",
       "\n",
       "                                    retweeted_status  \\\n",
       "0                                                NaN   \n",
       "1                                                NaN   \n",
       "2  {'created_at': 'Sun Nov 05 09:07:19 +0000 2017...   \n",
       "3                                                NaN   \n",
       "4                                                NaN   \n",
       "\n",
       "                                              source  \\\n",
       "0  <a href=\"http://twitter.com/download/android\" ...   \n",
       "1  <a href=\"http://twitter.com/download/iphone\" r...   \n",
       "2  <a href=\"http://twitter.com/download/android\" ...   \n",
       "3  <a href=\"http://twitter.com/download/android\" ...   \n",
       "4  <a href=\"http://twitter.com/download/android\" ...   \n",
       "\n",
       "                                                text            timestamp_ms  \\\n",
       "0                                     女の子戦争が始まらない……。 2017-11-09 10:59:00.660   \n",
       "1         @NMqZr18SRFKBX40 座るとコルセットが肋骨に刺さります……(；´Д`） 2017-11-09 10:59:00.658   \n",
       "2  RT @moomoonbyul: Omg I didn't realised their r... 2017-11-09 10:59:00.657   \n",
       "3               @ko180ex おめでとうございます🙌🎉😊\\n自分は県内枠で行きます🙌 2017-11-09 10:59:00.664   \n",
       "4                           もう一回潜りに行こうかな？どのみちサブカ対面だし 2017-11-09 10:59:00.662   \n",
       "\n",
       "   truncated                                               user  \n",
       "0        0.0  {'id': 885564598073442308, 'id_str': '88556459...  \n",
       "1        0.0  {'id': 4836244501, 'id_str': '4836244501', 'na...  \n",
       "2        0.0  {'id': 766092388494368768, 'id_str': '76609238...  \n",
       "3        0.0  {'id': 743778210437955584, 'id_str': '74377821...  \n",
       "4        0.0  {'id': 873200024913444864, 'id_str': '87320002...  \n",
       "\n",
       "[5 rows x 36 columns]"
      ]
     },
     "execution_count": 3,
     "metadata": {},
     "output_type": "execute_result"
    }
   ],
   "source": [
    "#basePath = os.path.dirname(os.path.abspath(__file__))\n",
    "#print(basePath)\n",
    "df = pd.read_json('59.json')\n",
    "print(df.text.unique())\n",
    "df.head()"
   ]
  },
  {
   "cell_type": "markdown",
   "metadata": {},
   "source": [
    "#### Clean emails"
   ]
  },
  {
   "cell_type": "code",
   "execution_count": 4,
   "metadata": {},
   "outputs": [
    {
     "name": "stdout",
     "output_type": "stream",
     "text": [
      "['女の子戦争が始まらない……。']\n"
     ]
    }
   ],
   "source": [
    "#Convert to List\n",
    "data = df.text.values.tolist()\n",
    "\n",
    "#Remove Emails\n",
    "#data = [re.sub('\\S*@\\S*\\s?', '',sent) for sent in data]\n",
    "#Remove new line characters\n",
    "#data = [re.sub('\\s+',' ',sent) for sent in data]\n",
    "#Remove distracting single qquotes\n",
    "#data = [re.sub(\"\\'\", \"\", sent) for sent in data]\n",
    "#Print data from email after cleaning up with REGEX\n",
    "pprint(data[:1])"
   ]
  },
  {
   "cell_type": "markdown",
   "metadata": {},
   "source": [
    "#### Break Sentences into Words"
   ]
  },
  {
   "cell_type": "code",
   "execution_count": 5,
   "metadata": {},
   "outputs": [
    {
     "name": "stdout",
     "output_type": "stream",
     "text": [
      "[['女の子戦争か始まらない']]\n"
     ]
    }
   ],
   "source": [
    "#Break down each sentence into a list of words through TOKENIZATION\n",
    "def sent_to_words(sentences):\n",
    "    for sentence in sentences:\n",
    "        yield(gensim.utils.simple_preprocess(str(sentence), deacc=True)) #Removes Punctuations\n",
    "data_words = list(sent_to_words(data))\n",
    "#result from breaking down each sentence into a list of words through TOKENIZATION\n",
    "print(data_words[:1])"
   ]
  },
  {
   "cell_type": "markdown",
   "metadata": {},
   "source": [
    "### Bigram & Trigram Model Building"
   ]
  },
  {
   "cell_type": "code",
   "execution_count": 6,
   "metadata": {},
   "outputs": [
    {
     "name": "stderr",
     "output_type": "stream",
     "text": [
      "c:\\python\\lib\\site-packages\\gensim\\models\\phrases.py:598: UserWarning: For a faster implementation, use the gensim.models.phrases.Phraser class\n",
      "  warnings.warn(\"For a faster implementation, use the gensim.models.phrases.Phraser class\")\n"
     ]
    },
    {
     "name": "stdout",
     "output_type": "stream",
     "text": [
      "-----------------------------\n",
      "['女の子戦争か始まらない']\n"
     ]
    }
   ],
   "source": [
    "#Build bigram & Trigram models\n",
    "bigram = gensim.models.Phrases(data_words,min_count=5,threshold=100) #Higher threshold = fewer phrases\n",
    "trigram = gensim.models.Phrases(bigram[data_words],threshold=100)\n",
    "#Faster way to get sentence clubbed as birgram/trigram\n",
    "bigram_mod = gensim.models.phrases.Phraser(bigram)\n",
    "trigram_mod = gensim.models.phrases.Phraser(trigram)\n",
    "#See trigram example\n",
    "print(\"-----------------------------\")\n",
    "print(trigram_mod[bigram_mod[data_words[0]]])"
   ]
  },
  {
   "cell_type": "markdown",
   "metadata": {},
   "source": [
    "#### Functions: Stopwords, Bi/Trigrams, Lemmatization"
   ]
  },
  {
   "cell_type": "code",
   "execution_count": 7,
   "metadata": {},
   "outputs": [],
   "source": [
    "#define functions for stopwords, bi/trigrams and lemmatization\n",
    "def remove_stopwords(texts):\n",
    "    return [[word for word in simple_preprocess(str(doc)) if word not in stop_words] for doc in texts]\n",
    "def make_bigrams(texts):\n",
    "    return [trigram_mod[bigram_mod[doc]] for doc in texts]\n",
    "def lemmatization(texts, allowed_postags=['NOUN','ADJ','VERB','ADV']):\n",
    "    \"\"\"https://spacy.io/api/annotation\"\"\"\n",
    "    texts_out= []\n",
    "    for sent in texts:\n",
    "        doc = nlp(\" \".join(sent))\n",
    "        texts_out.append([token.lemma_ for token in doc if token.pos_ in allowed_postags])\n",
    "    return texts_out"
   ]
  },
  {
   "cell_type": "markdown",
   "metadata": {},
   "source": [
    "#### Call Functions and display"
   ]
  },
  {
   "cell_type": "code",
   "execution_count": 8,
   "metadata": {},
   "outputs": [
    {
     "name": "stderr",
     "output_type": "stream",
     "text": [
      "c:\\python\\lib\\importlib\\_bootstrap.py:219: RuntimeWarning: cymem.cymem.Pool size changed, may indicate binary incompatibility. Expected 48 from C header, got 64 from PyObject\n",
      "  return f(*args, **kwds)\n",
      "c:\\python\\lib\\importlib\\_bootstrap.py:219: RuntimeWarning: cymem.cymem.Address size changed, may indicate binary incompatibility. Expected 24 from C header, got 40 from PyObject\n",
      "  return f(*args, **kwds)\n"
     ]
    },
    {
     "name": "stdout",
     "output_type": "stream",
     "text": [
      "-------------------------------------\n",
      "[['女の子戦争か始まらない']]\n"
     ]
    }
   ],
   "source": [
    "#remove Stop words\n",
    "data_words_nostops = remove_stopwords(data_words)\n",
    "#form bigrams\n",
    "data_words_bigrams = make_bigrams(data_words_nostops)\n",
    "#finitialize spacy 'en' model\n",
    "nlp = spacy.load('en', disable=['parser','ner'])\n",
    "#Do lemmatization keeping only nouns, adjectives, verbs and adverbs\n",
    "data_lemmatized = lemmatization(data_words_bigrams, allowed_postags=['NOUN', 'ADJ', 'VERB', 'ADV'])\n",
    "#Print data after removing stop words, form bigram and lemmatizing data\n",
    "print(\"-------------------------------------\")\n",
    "print(data_lemmatized[:1])"
   ]
  },
  {
   "cell_type": "markdown",
   "metadata": {},
   "source": [
    "### Create Dictionary and Corpus"
   ]
  },
  {
   "cell_type": "code",
   "execution_count": 9,
   "metadata": {},
   "outputs": [
    {
     "name": "stdout",
     "output_type": "stream",
     "text": [
      "[[(0, 1)]]\n"
     ]
    }
   ],
   "source": [
    "#Create Dict\n",
    "id2word = corpora.Dictionary(data_lemmatized)\n",
    "#Create Corpus\n",
    "texts = data_lemmatized\n",
    "#Term Document Frequency\n",
    "corpus = [id2word.doc2bow(text) for text in texts]\n",
    "#View\n",
    "print(corpus[:1])\n",
    "\n",
    "#[[(id2word[id], freq) for id, freq in cp] for cp in corpus[:1]]"
   ]
  },
  {
   "cell_type": "markdown",
   "metadata": {},
   "source": [
    "## Build LDA Model"
   ]
  },
  {
   "cell_type": "code",
   "execution_count": 10,
   "metadata": {},
   "outputs": [
    {
     "name": "stdout",
     "output_type": "stream",
     "text": [
      "TEST: DONE LDA MODEL BUILDING\n"
     ]
    }
   ],
   "source": [
    "# Build LDA model\n",
    "lda_model = gensim.models.ldamodel.LdaModel(corpus=corpus,id2word=id2word,\n",
    "num_topics=20, random_state=100, update_every=1, chunksize=100, passes=10, alpha='auto', per_word_topics=True)\n",
    "print(\"TEST: DONE LDA MODEL BUILDING\")\n",
    "\n",
    "# Print the Keyword in the 20 topics\n",
    "#pprint(lda_model.print_topics())\n",
    "#doc_lda = lda_model[corpus]"
   ]
  },
  {
   "cell_type": "markdown",
   "metadata": {},
   "source": [
    "### Perplexity and coherence"
   ]
  },
  {
   "cell_type": "code",
   "execution_count": 11,
   "metadata": {},
   "outputs": [
    {
     "name": "stdout",
     "output_type": "stream",
     "text": [
      "\n",
      "Perplexity:  -10.793718637819676\n",
      "OOOOOOOOOOOOOOOOOOOOOOOOOOOOOOOOOOOOOOOOOOOOOOOOOOOOOOOOOOOOO\n"
     ]
    }
   ],
   "source": [
    "# Compute Perplexity\n",
    "print('\\nPerplexity: ', lda_model.log_perplexity(corpus))  # a measure of how good the model is. lower the better.\n",
    "# Compute Coherence Score\n",
    "#coherence_model_lda = CoherenceModel(model=lda_model, texts=data_lemmatized, dictionary=id2word, coherence='c_v')\n",
    "#coherence_lda = coherence_model_lda.get_coherence()\n",
    "#print('\\nCoherence Score: ', coherence_lda)\n",
    "print(\"OOOOOOOOOOOOOOOOOOOOOOOOOOOOOOOOOOOOOOOOOOOOOOOOOOOOOOOOOOOOO\")"
   ]
  },
  {
   "cell_type": "markdown",
   "metadata": {},
   "source": [
    "# Visualize"
   ]
  },
  {
   "cell_type": "code",
   "execution_count": 12,
   "metadata": {},
   "outputs": [
    {
     "name": "stderr",
     "output_type": "stream",
     "text": [
      "c:\\python\\lib\\site-packages\\pyLDAvis\\_prepare.py:257: FutureWarning: Sorting because non-concatenation axis is not aligned. A future version\n",
      "of pandas will change to not sort by default.\n",
      "\n",
      "To accept the future behavior, pass 'sort=False'.\n",
      "\n",
      "To retain the current behavior and silence the warning, pass 'sort=True'.\n",
      "\n",
      "  return pd.concat([default_term_info] + list(topic_dfs))\n"
     ]
    },
    {
     "data": {
      "text/html": [
       "\n",
       "<link rel=\"stylesheet\" type=\"text/css\" href=\"https://cdn.rawgit.com/bmabey/pyLDAvis/files/ldavis.v1.0.0.css\">\n",
       "\n",
       "\n",
       "<div id=\"ldavis_el1266424097410654565940456057\"></div>\n",
       "<script type=\"text/javascript\">\n",
       "\n",
       "var ldavis_el1266424097410654565940456057_data = {\"mdsDat\": {\"x\": [-0.35776829004143446, 0.030381003822377895, -0.21240455773038983, 0.032294848776301316, 0.031591450498903134, 0.0323554769420825, 0.03016315244895885, 0.03227619628828263, 0.03175892507136604, 0.031161710977786857, 0.03141277359303943, 0.03152347179112422, 0.03245473923694071, 0.032029344185953955, 0.030778323569550965, 0.03211481811765745, 0.032023099357656556, 0.03138323693414339, 0.032299790593800524, 0.03217048556589794], \"y\": [-0.0025374731820731553, 0.06238622477351691, 0.005404301207059898, 0.009006201319994227, 0.015382693061728809, 0.010299751513960018, -0.26238549847865517, 0.01416919767447701, 0.00971911350146648, 0.01601828004884415, 0.023289195339740363, 0.018402664964340117, 0.008924989556193556, 0.010142925627608976, 0.014400329809889749, 0.010144152509704822, 0.010139628421055733, 0.01120475760672672, 0.008972642757700315, 0.006915921966720548], \"topics\": [1, 2, 3, 4, 5, 6, 7, 8, 9, 10, 11, 12, 13, 14, 15, 16, 17, 18, 19, 20], \"cluster\": [1, 1, 1, 1, 1, 1, 1, 1, 1, 1, 1, 1, 1, 1, 1, 1, 1, 1, 1, 1], \"Freq\": [14.891007423400879, 7.188019752502441, 5.970387935638428, 5.125548839569092, 4.99302864074707, 4.795782089233398, 4.661534309387207, 4.6328959465026855, 4.436546325683594, 4.4026618003845215, 4.268494606018066, 4.237483978271484, 4.077192783355713, 3.97375750541687, 3.945404291152954, 3.807914972305298, 3.790499687194824, 3.7671797275543213, 3.6361613273620605, 3.3984885215759277]}, \"tinfo\": {\"Category\": [\"Default\", \"Default\", \"Default\", \"Default\", \"Default\", \"Default\", \"Default\", \"Default\", \"Default\", \"Default\", \"Default\", \"Default\", \"Default\", \"Default\", \"Default\", \"Default\", \"Default\", \"Default\", \"Default\", \"Default\", \"Default\", \"Default\", \"Default\", \"Default\", \"Default\", \"Default\", \"Default\", \"Default\", \"Default\", \"Default\", \"Topic1\", \"Topic1\", \"Topic1\", \"Topic1\", \"Topic1\", \"Topic1\", \"Topic1\", \"Topic1\", \"Topic1\", \"Topic1\", \"Topic1\", \"Topic1\", \"Topic1\", \"Topic1\", \"Topic1\", \"Topic1\", \"Topic1\", \"Topic1\", \"Topic1\", \"Topic1\", \"Topic1\", \"Topic1\", \"Topic1\", \"Topic1\", \"Topic1\", \"Topic1\", \"Topic1\", \"Topic1\", \"Topic1\", \"Topic1\", \"Topic2\", \"Topic2\", \"Topic2\", \"Topic2\", \"Topic2\", \"Topic2\", \"Topic2\", \"Topic2\", \"Topic2\", \"Topic2\", \"Topic2\", \"Topic2\", \"Topic2\", \"Topic2\", \"Topic2\", \"Topic2\", \"Topic2\", \"Topic2\", \"Topic2\", \"Topic2\", \"Topic2\", \"Topic2\", \"Topic2\", \"Topic2\", \"Topic2\", \"Topic2\", \"Topic2\", \"Topic2\", \"Topic2\", \"Topic2\", \"Topic3\", \"Topic3\", \"Topic3\", \"Topic3\", \"Topic3\", \"Topic3\", \"Topic3\", \"Topic3\", \"Topic3\", \"Topic3\", \"Topic3\", \"Topic3\", \"Topic3\", \"Topic3\", \"Topic3\", \"Topic3\", \"Topic3\", \"Topic3\", \"Topic3\", \"Topic3\", \"Topic3\", \"Topic3\", \"Topic3\", \"Topic3\", \"Topic3\", \"Topic3\", \"Topic3\", \"Topic3\", \"Topic3\", \"Topic3\", \"Topic3\", \"Topic3\", \"Topic3\", \"Topic3\", \"Topic3\", \"Topic3\", \"Topic4\", \"Topic4\", \"Topic4\", \"Topic4\", \"Topic4\", \"Topic4\", \"Topic4\", \"Topic4\", \"Topic4\", \"Topic4\", \"Topic4\", \"Topic4\", \"Topic4\", \"Topic4\", \"Topic4\", \"Topic4\", \"Topic4\", \"Topic4\", \"Topic4\", \"Topic4\", \"Topic4\", \"Topic4\", \"Topic4\", \"Topic4\", \"Topic4\", \"Topic4\", \"Topic4\", \"Topic4\", \"Topic4\", \"Topic4\", \"Topic4\", \"Topic4\", \"Topic4\", \"Topic4\", \"Topic4\", \"Topic4\", \"Topic4\", \"Topic4\", \"Topic5\", \"Topic5\", \"Topic5\", \"Topic5\", \"Topic5\", \"Topic5\", \"Topic5\", \"Topic5\", \"Topic5\", \"Topic5\", \"Topic5\", \"Topic5\", \"Topic5\", \"Topic5\", \"Topic5\", \"Topic5\", \"Topic5\", \"Topic5\", \"Topic5\", \"Topic5\", \"Topic5\", \"Topic5\", \"Topic5\", \"Topic5\", \"Topic5\", \"Topic5\", \"Topic5\", \"Topic5\", \"Topic5\", \"Topic5\", \"Topic6\", \"Topic6\", \"Topic6\", \"Topic6\", \"Topic6\", \"Topic6\", \"Topic6\", \"Topic6\", \"Topic6\", \"Topic6\", \"Topic6\", \"Topic6\", \"Topic6\", \"Topic6\", \"Topic6\", \"Topic6\", \"Topic6\", \"Topic6\", \"Topic6\", \"Topic6\", \"Topic6\", \"Topic6\", \"Topic6\", \"Topic6\", \"Topic6\", \"Topic6\", \"Topic6\", \"Topic6\", \"Topic6\", \"Topic6\", \"Topic7\", \"Topic7\", \"Topic7\", \"Topic7\", \"Topic7\", \"Topic7\", \"Topic7\", \"Topic7\", \"Topic7\", \"Topic7\", \"Topic7\", \"Topic7\", \"Topic7\", \"Topic7\", \"Topic7\", \"Topic7\", \"Topic7\", \"Topic7\", \"Topic7\", \"Topic7\", \"Topic7\", \"Topic7\", \"Topic7\", \"Topic7\", \"Topic7\", \"Topic7\", \"Topic7\", \"Topic7\", \"Topic7\", \"Topic7\", \"Topic7\", \"Topic7\", \"Topic8\", \"Topic8\", \"Topic8\", \"Topic8\", \"Topic8\", \"Topic8\", \"Topic8\", \"Topic8\", \"Topic8\", \"Topic8\", \"Topic8\", \"Topic8\", \"Topic8\", \"Topic8\", \"Topic8\", \"Topic8\", \"Topic8\", \"Topic8\", \"Topic8\", \"Topic8\", \"Topic8\", \"Topic8\", \"Topic8\", \"Topic8\", \"Topic8\", \"Topic8\", \"Topic8\", \"Topic8\", \"Topic8\", \"Topic8\", \"Topic8\", \"Topic8\", \"Topic8\", \"Topic8\", \"Topic8\", \"Topic8\", \"Topic8\", \"Topic8\", \"Topic8\", \"Topic8\", \"Topic8\", \"Topic8\", \"Topic8\", \"Topic8\", \"Topic9\", \"Topic9\", \"Topic9\", \"Topic9\", \"Topic9\", \"Topic9\", \"Topic9\", \"Topic9\", \"Topic9\", \"Topic9\", \"Topic9\", \"Topic9\", \"Topic9\", \"Topic9\", \"Topic9\", \"Topic9\", \"Topic9\", \"Topic9\", \"Topic9\", \"Topic9\", \"Topic9\", \"Topic9\", \"Topic9\", \"Topic9\", \"Topic9\", \"Topic9\", \"Topic9\", \"Topic9\", \"Topic9\", \"Topic9\", \"Topic10\", \"Topic10\", \"Topic10\", \"Topic10\", \"Topic10\", \"Topic10\", \"Topic10\", \"Topic10\", \"Topic10\", \"Topic10\", \"Topic10\", \"Topic10\", \"Topic10\", \"Topic10\", \"Topic10\", \"Topic10\", \"Topic10\", \"Topic10\", \"Topic10\", \"Topic10\", \"Topic10\", \"Topic10\", \"Topic10\", \"Topic10\", \"Topic10\", \"Topic10\", \"Topic10\", \"Topic10\", \"Topic10\", \"Topic10\", \"Topic10\", \"Topic10\", \"Topic10\", \"Topic11\", \"Topic11\", \"Topic11\", \"Topic11\", \"Topic11\", \"Topic11\", \"Topic11\", \"Topic11\", \"Topic11\", \"Topic11\", \"Topic11\", \"Topic11\", \"Topic11\", \"Topic11\", \"Topic11\", \"Topic11\", \"Topic11\", \"Topic11\", \"Topic11\", \"Topic11\", \"Topic11\", \"Topic11\", \"Topic11\", \"Topic11\", \"Topic11\", \"Topic11\", \"Topic11\", \"Topic11\", \"Topic11\", \"Topic11\", \"Topic11\", \"Topic11\", \"Topic12\", \"Topic12\", \"Topic12\", \"Topic12\", \"Topic12\", \"Topic12\", \"Topic12\", \"Topic12\", \"Topic12\", \"Topic12\", \"Topic12\", \"Topic12\", \"Topic12\", \"Topic12\", \"Topic12\", \"Topic12\", \"Topic12\", \"Topic12\", \"Topic12\", \"Topic12\", \"Topic12\", \"Topic12\", \"Topic12\", \"Topic12\", \"Topic12\", \"Topic12\", \"Topic12\", \"Topic12\", \"Topic12\", \"Topic12\", \"Topic13\", \"Topic13\", \"Topic13\", \"Topic13\", \"Topic13\", \"Topic13\", \"Topic13\", \"Topic13\", \"Topic13\", \"Topic13\", \"Topic13\", \"Topic13\", \"Topic13\", \"Topic13\", \"Topic13\", \"Topic13\", \"Topic13\", \"Topic13\", \"Topic13\", \"Topic13\", \"Topic13\", \"Topic13\", \"Topic13\", \"Topic13\", \"Topic13\", \"Topic13\", \"Topic13\", \"Topic13\", \"Topic13\", \"Topic13\", \"Topic13\", \"Topic13\", \"Topic13\", \"Topic13\", \"Topic13\", \"Topic13\", \"Topic13\", \"Topic13\", \"Topic14\", \"Topic14\", \"Topic14\", \"Topic14\", \"Topic14\", \"Topic14\", \"Topic14\", \"Topic14\", \"Topic14\", \"Topic14\", \"Topic14\", \"Topic14\", \"Topic14\", \"Topic14\", \"Topic14\", \"Topic14\", \"Topic14\", \"Topic14\", \"Topic14\", \"Topic14\", \"Topic14\", \"Topic14\", \"Topic14\", \"Topic14\", \"Topic14\", \"Topic14\", \"Topic14\", \"Topic14\", \"Topic14\", \"Topic14\", \"Topic15\", \"Topic15\", \"Topic15\", \"Topic15\", \"Topic15\", \"Topic15\", \"Topic15\", \"Topic15\", \"Topic15\", \"Topic15\", \"Topic15\", \"Topic15\", \"Topic15\", \"Topic15\", \"Topic15\", \"Topic15\", \"Topic15\", \"Topic15\", \"Topic15\", \"Topic15\", \"Topic15\", \"Topic15\", \"Topic15\", \"Topic15\", \"Topic15\", \"Topic15\", \"Topic15\", \"Topic15\", \"Topic15\", \"Topic15\", \"Topic15\", \"Topic15\", \"Topic15\", \"Topic15\", \"Topic16\", \"Topic16\", \"Topic16\", \"Topic16\", \"Topic16\", \"Topic16\", \"Topic16\", \"Topic16\", \"Topic16\", \"Topic16\", \"Topic16\", \"Topic16\", \"Topic16\", \"Topic16\", \"Topic16\", \"Topic16\", \"Topic16\", \"Topic16\", \"Topic16\", \"Topic16\", \"Topic16\", \"Topic16\", \"Topic16\", \"Topic16\", \"Topic16\", \"Topic16\", \"Topic16\", \"Topic16\", \"Topic16\", \"Topic16\", \"Topic17\", \"Topic17\", \"Topic17\", \"Topic17\", \"Topic17\", \"Topic17\", \"Topic17\", \"Topic17\", \"Topic17\", \"Topic17\", \"Topic17\", \"Topic17\", \"Topic17\", \"Topic17\", \"Topic17\", \"Topic17\", \"Topic17\", \"Topic17\", \"Topic17\", \"Topic17\", \"Topic17\", \"Topic17\", \"Topic17\", \"Topic17\", \"Topic17\", \"Topic17\", \"Topic17\", \"Topic17\", \"Topic17\", \"Topic17\", \"Topic17\", \"Topic17\", \"Topic17\", \"Topic17\", \"Topic17\", \"Topic17\", \"Topic18\", \"Topic18\", \"Topic18\", \"Topic18\", \"Topic18\", \"Topic18\", \"Topic18\", \"Topic18\", \"Topic18\", \"Topic18\", \"Topic18\", \"Topic18\", \"Topic18\", \"Topic18\", \"Topic18\", \"Topic18\", \"Topic18\", \"Topic18\", \"Topic18\", \"Topic18\", \"Topic18\", \"Topic18\", \"Topic18\", \"Topic18\", \"Topic18\", \"Topic18\", \"Topic18\", \"Topic18\", \"Topic18\", \"Topic18\", \"Topic18\", \"Topic18\", \"Topic18\", \"Topic18\", \"Topic18\", \"Topic19\", \"Topic19\", \"Topic19\", \"Topic19\", \"Topic19\", \"Topic19\", \"Topic19\", \"Topic19\", \"Topic19\", \"Topic19\", \"Topic19\", \"Topic19\", \"Topic19\", \"Topic19\", \"Topic19\", \"Topic19\", \"Topic19\", \"Topic19\", \"Topic19\", \"Topic19\", \"Topic19\", \"Topic19\", \"Topic19\", \"Topic19\", \"Topic19\", \"Topic19\", \"Topic19\", \"Topic19\", \"Topic19\", \"Topic19\", \"Topic19\", \"Topic19\", \"Topic19\", \"Topic20\", \"Topic20\", \"Topic20\", \"Topic20\", \"Topic20\", \"Topic20\", \"Topic20\", \"Topic20\", \"Topic20\", \"Topic20\", \"Topic20\", \"Topic20\", \"Topic20\", \"Topic20\", \"Topic20\", \"Topic20\", \"Topic20\", \"Topic20\", \"Topic20\", \"Topic20\", \"Topic20\", \"Topic20\", \"Topic20\", \"Topic20\", \"Topic20\", \"Topic20\", \"Topic20\", \"Topic20\", \"Topic20\", \"Topic20\"], \"Freq\": [811.0, 794.0, 85.0, 26.0, 29.0, 41.0, 26.0, 21.0, 18.0, 14.0, 14.0, 10.0, 11.0, 11.0, 13.0, 11.0, 9.0, 12.0, 12.0, 10.0, 9.0, 12.0, 10.0, 10.0, 9.0, 10.0, 8.0, 9.0, 11.0, 9.0, 41.300926208496094, 7.864326000213623, 7.42026424407959, 6.035592079162598, 5.298276424407959, 5.253796577453613, 5.21181058883667, 5.21181058883667, 4.969751358032227, 723.5816650390625, 707.4132690429688, 4.273696422576904, 4.227227210998535, 4.227227210998535, 4.227226734161377, 4.227226734161377, 4.227227210998535, 4.227226734161377, 4.227227210998535, 4.227226734161377, 4.227226734161377, 4.227226734161377, 4.227226734161377, 4.227226734161377, 4.227227210998535, 4.227226734161377, 4.227226734161377, 4.227226734161377, 4.227226734161377, 4.227226734161377, 29.319833755493164, 25.69459342956543, 13.815523147583008, 12.833011627197266, 12.356983184814453, 12.079934120178223, 11.948554992675781, 11.13360595703125, 9.941278457641602, 9.299758911132812, 8.38892650604248, 8.16133975982666, 7.253695964813232, 6.480607986450195, 6.308485507965088, 6.308485507965088, 6.308485507965088, 6.308485507965088, 6.308485507965088, 6.308485507965088, 6.308485507965088, 6.308485507965088, 6.192676544189453, 5.758810043334961, 5.672821998596191, 5.339796543121338, 5.252453327178955, 5.189260482788086, 5.186981201171875, 5.137152194976807, 9.33758544921875, 7.003739356994629, 4.753210544586182, 4.146391868591309, 3.901139974594116, 3.7469046115875244, 3.418853998184204, 3.418853998184204, 3.418853998184204, 3.2354257106781006, 3.112522602081299, 3.1125221252441406, 3.1125221252441406, 3.1125221252441406, 3.1125221252441406, 3.1125221252441406, 3.1125221252441406, 3.112522602081299, 3.1125221252441406, 3.112522602081299, 3.112522602081299, 3.1125221252441406, 3.1125221252441406, 3.1125221252441406, 3.1125221252441406, 3.112522602081299, 3.1125221252441406, 3.112522840499878, 3.112522840499878, 3.112522840499878, 3.112522840499878, 3.112522840499878, 3.112522840499878, 3.112522840499878, 86.61468505859375, 86.93987274169922, 11.363659858703613, 11.127798080444336, 9.7783784866333, 9.404932022094727, 8.035094261169434, 7.647187232971191, 5.707921981811523, 5.002784729003906, 4.720516681671143, 4.310908794403076, 4.236202239990234, 4.145214557647705, 4.091296195983887, 3.87992000579834, 3.7921414375305176, 3.7529780864715576, 3.5459933280944824, 3.542201519012451, 3.2777321338653564, 3.184610605239868, 3.0417425632476807, 2.925366163253784, 2.775385856628418, 2.718031167984009, 2.682263135910034, 2.6355020999908447, 2.6355020999908447, 2.6355020999908447, 2.6355020999908447, 2.6355020999908447, 2.6355020999908447, 2.6355020999908447, 2.6355020999908447, 2.6355020999908447, 2.6355020999908447, 2.6355020999908447, 2.6355020999908447, 2.6355020999908447, 10.126996994018555, 9.554688453674316, 7.799440860748291, 6.552633762359619, 6.473393440246582, 6.297533988952637, 6.27484655380249, 5.9779181480407715, 5.573426246643066, 5.557662010192871, 5.5318989753723145, 5.38974666595459, 5.31864070892334, 5.096091270446777, 4.953976154327393, 4.787961483001709, 4.716848373413086, 4.594104290008545, 4.442422389984131, 4.392983913421631, 4.160835266113281, 4.016068935394287, 3.945223331451416, 3.8608665466308594, 3.4756362438201904, 3.3488667011260986, 3.328171968460083, 3.3251233100891113, 3.276885986328125, 3.255741834640503, 10.582377433776855, 8.308863639831543, 5.955256462097168, 5.539043426513672, 5.2035231590271, 4.820032596588135, 4.744348049163818, 4.450784683227539, 3.846073627471924, 3.7978603839874268, 3.7071027755737305, 3.6720614433288574, 3.3728694915771484, 3.251979351043701, 3.1934797763824463, 3.1934797763824463, 3.1934797763824463, 3.1934797763824463, 3.193462610244751, 3.193462610244751, 3.193462610244751, 3.193462610244751, 3.193462610244751, 3.193462610244751, 3.193462610244751, 3.193462610244751, 3.1934611797332764, 3.1934611797332764, 3.1934611797332764, 3.1934611797332764, 26.421274185180664, 18.1357421875, 9.685873031616211, 7.316132068634033, 7.237222194671631, 4.752811431884766, 4.319464206695557, 4.226628303527832, 4.2190704345703125, 4.218385696411133, 3.6709835529327393, 3.645942211151123, 3.606006383895874, 3.412108898162842, 3.2474608421325684, 3.050112009048462, 3.03594708442688, 3.0141658782958984, 2.990719795227051, 2.705453872680664, 2.677074909210205, 2.567120313644409, 2.5597949028015137, 2.5597949028015137, 2.5597949028015137, 2.5597949028015137, 2.5597803592681885, 2.5597803592681885, 2.5597803592681885, 2.5597803592681885, 2.5597803592681885, 2.5597803592681885, 6.546148300170898, 4.4340996742248535, 3.9018166065216064, 2.9570088386535645, 2.9486327171325684, 2.914517641067505, 2.882822036743164, 2.882822036743164, 2.882822036743164, 2.882822036743164, 2.882822036743164, 2.882822036743164, 2.882822036743164, 2.882822036743164, 2.882822036743164, 2.882822036743164, 2.882822036743164, 2.882822036743164, 2.882822036743164, 2.882822036743164, 2.882822036743164, 2.882822036743164, 2.882822036743164, 2.882822036743164, 2.882822036743164, 2.882822036743164, 2.882822036743164, 2.882822036743164, 2.882822036743164, 2.882822036743164, 2.882822036743164, 2.882822036743164, 2.882822036743164, 2.882822036743164, 2.882822036743164, 2.882822036743164, 2.882822036743164, 2.882822036743164, 2.882822036743164, 2.882822036743164, 2.882822036743164, 2.882822036743164, 2.882822036743164, 2.882822036743164, 84.57794189453125, 6.09222412109375, 5.362873554229736, 5.115107536315918, 5.115107536315918, 4.558314800262451, 3.8348259925842285, 3.777322292327881, 3.7625887393951416, 3.6285483837127686, 3.612844228744507, 3.3954434394836426, 3.104220151901245, 3.0214223861694336, 3.0214223861694336, 3.0214223861694336, 3.0214223861694336, 3.0214223861694336, 3.0214223861694336, 3.0214011669158936, 3.0214011669158936, 3.0213727951049805, 3.0213727951049805, 3.021381378173828, 3.021381378173828, 3.021381378173828, 3.021381378173828, 2.970426321029663, 2.7768301963806152, 2.762397289276123, 20.7347354888916, 14.397590637207031, 8.345900535583496, 6.926234722137451, 6.831375598907471, 5.549923419952393, 5.4313063621521, 5.4084930419921875, 5.223750114440918, 4.41015100479126, 4.1447296142578125, 4.125350475311279, 4.041141510009766, 3.6166493892669678, 3.5546717643737793, 3.388575315475464, 3.3167660236358643, 3.0936081409454346, 3.0138156414031982, 2.8762259483337402, 2.836392641067505, 2.8363916873931885, 2.763719081878662, 2.7460620403289795, 2.7460620403289795, 2.7460620403289795, 2.7460620403289795, 2.7460620403289795, 2.7460620403289795, 2.746006727218628, 2.746014356613159, 2.746018171310425, 2.746018171310425, 8.951807022094727, 8.223689079284668, 7.153950214385986, 5.099725723266602, 4.441083908081055, 3.81384015083313, 3.6793060302734375, 3.4339981079101562, 3.375142812728882, 3.1754043102264404, 3.154970645904541, 2.87957763671875, 2.87957763671875, 2.8057925701141357, 2.7594716548919678, 2.7502670288085938, 2.747594118118286, 2.7294321060180664, 2.6892340183258057, 2.6758229732513428, 2.6428091526031494, 2.5979363918304443, 2.561350107192993, 2.5334832668304443, 2.5334832668304443, 2.5334832668304443, 2.5334832668304443, 2.533445358276367, 2.533445358276367, 2.533445358276367, 2.533445358276367, 2.533445358276367, 8.404109954833984, 7.722919940948486, 4.536166191101074, 3.7804346084594727, 3.6837100982666016, 3.412632465362549, 3.259050130844116, 3.205953359603882, 3.089460611343384, 2.865638256072998, 2.7675843238830566, 2.7303872108459473, 2.5578625202178955, 2.5578625202178955, 2.5578625202178955, 2.5578625202178955, 2.5578625202178955, 2.5578625202178955, 2.5578625202178955, 2.5578625202178955, 2.5578625202178955, 2.5578625202178955, 2.5578625202178955, 2.4363646507263184, 2.3791069984436035, 2.2171921730041504, 2.1496822834014893, 2.004141092300415, 2.004141092300415, 1.985361933708191, 6.050681114196777, 4.733372211456299, 4.253894329071045, 4.087545394897461, 3.551206350326538, 3.4663944244384766, 3.2069895267486572, 3.2069895267486572, 3.1101980209350586, 3.0271971225738525, 3.0271971225738525, 2.9652180671691895, 2.9606876373291016, 2.8452441692352295, 2.8452420234680176, 2.783932685852051, 2.7656500339508057, 2.7656500339508057, 2.7656500339508057, 2.7656500339508057, 2.437081813812256, 2.414175033569336, 2.2509751319885254, 2.0577445030212402, 2.0577445030212402, 2.0577445030212402, 2.0577445030212402, 2.0577445030212402, 2.0577445030212402, 2.0577445030212402, 2.0577445030212402, 2.0577445030212402, 2.0577445030212402, 2.0577445030212402, 2.0577445030212402, 2.0577445030212402, 2.0577445030212402, 2.0577445030212402, 6.5245490074157715, 5.777312278747559, 4.273429870605469, 4.156769752502441, 4.014604568481445, 3.7498586177825928, 3.6789164543151855, 3.6442465782165527, 3.6246602535247803, 3.546977996826172, 3.3762028217315674, 3.0842959880828857, 3.0240604877471924, 3.0240585803985596, 2.9900901317596436, 2.893411159515381, 2.735203504562378, 2.6741204261779785, 2.6741204261779785, 2.6741204261779785, 2.6741204261779785, 2.6741204261779785, 2.6741161346435547, 2.6741161346435547, 2.6741161346435547, 2.6741161346435547, 2.6741161346435547, 2.6741161346435547, 2.624218225479126, 2.355520486831665, 9.102570533752441, 8.50625991821289, 6.472095966339111, 5.084540843963623, 5.010992050170898, 4.905519962310791, 4.731860160827637, 4.266473293304443, 4.082118511199951, 3.768214702606201, 3.5820109844207764, 3.5110621452331543, 3.3223471641540527, 3.0873541831970215, 2.9467735290527344, 2.921618938446045, 2.823272228240967, 2.823272466659546, 2.691556453704834, 2.647146224975586, 2.636101722717285, 2.607997179031372, 2.5548582077026367, 2.5194711685180664, 2.5092742443084717, 2.4966046810150146, 2.4966046810150146, 2.4966046810150146, 2.4966046810150146, 2.496587038040161, 2.496589422225952, 2.496589422225952, 2.496589422225952, 2.496589422225952, 8.00066089630127, 5.563804626464844, 5.08939790725708, 5.08939790725708, 4.548336029052734, 4.148576736450195, 3.7883589267730713, 3.7800679206848145, 3.5198781490325928, 3.326873540878296, 2.8922715187072754, 2.888547658920288, 2.703145742416382, 2.609166383743286, 2.585739850997925, 2.5576202869415283, 2.5576202869415283, 2.5576202869415283, 2.5576202869415283, 2.557607889175415, 2.557607889175415, 2.557607889175415, 2.557607889175415, 2.557593584060669, 2.557593584060669, 2.557593584060669, 2.4749531745910645, 2.373227834701538, 2.1454179286956787, 1.9738267660140991, 8.433924674987793, 5.5643744468688965, 4.959794998168945, 4.841038703918457, 4.8202080726623535, 3.9206995964050293, 3.3333230018615723, 2.9901716709136963, 2.7425498962402344, 2.670860767364502, 2.622384786605835, 2.6223838329315186, 2.5490360260009766, 2.5490360260009766, 2.5490360260009766, 2.5490360260009766, 2.5490360260009766, 2.5490360260009766, 2.5490360260009766, 2.5490360260009766, 2.5490360260009766, 2.5490360260009766, 2.5490360260009766, 2.5490360260009766, 2.5490360260009766, 2.5490360260009766, 2.5490360260009766, 2.5490360260009766, 2.5490360260009766, 2.5490360260009766, 2.5490360260009766, 2.5490360260009766, 2.5490360260009766, 2.5490360260009766, 2.5490360260009766, 2.5490360260009766, 5.981249809265137, 5.309618949890137, 5.0512919425964355, 4.7848639488220215, 4.542935848236084, 4.269314289093018, 4.263082981109619, 4.263082981109619, 4.263082981109619, 4.19943904876709, 4.1860222816467285, 3.8538482189178467, 3.8536324501037598, 3.7948224544525146, 3.7737433910369873, 3.5011236667633057, 3.3264195919036865, 3.3244903087615967, 3.0594916343688965, 3.032116413116455, 2.9831693172454834, 2.9831693172454834, 2.9831693172454834, 2.9831693172454834, 2.9831693172454834, 2.9831693172454834, 2.9831652641296387, 2.911609649658203, 2.8046388626098633, 2.5533344745635986, 2.5533344745635986, 2.5533344745635986, 2.5533344745635986, 2.5533344745635986, 2.5533344745635986, 10.09036636352539, 4.513544082641602, 4.393709659576416, 3.2725796699523926, 2.9537246227264404, 2.8268184661865234, 2.597416639328003, 2.5382328033447266, 2.5382328033447266, 2.5382328033447266, 2.5382328033447266, 2.5382328033447266, 2.5382328033447266, 2.5382328033447266, 2.2104299068450928, 2.188612699508667, 2.179699182510376, 2.170952081680298, 2.170952081680298, 2.0772252082824707, 1.91438627243042, 1.8810198307037354, 1.8810198307037354, 1.8810198307037354, 1.8810198307037354, 1.8810198307037354, 1.8810198307037354, 1.8810198307037354, 1.8810198307037354, 1.8810198307037354, 1.8810198307037354, 1.8810198307037354, 1.8810198307037354, 9.007806777954102, 5.538897514343262, 5.188601493835449, 4.795682430267334, 4.12743616104126, 4.092504978179932, 3.3875644207000732, 3.1990392208099365, 3.070378303527832, 2.5925498008728027, 2.5613884925842285, 2.5613887310028076, 2.5613887310028076, 2.5613887310028076, 2.5613887310028076, 2.5613884925842285, 2.5613887310028076, 2.5613884925842285, 2.5613887310028076, 2.5613887310028076, 2.5613884925842285, 2.5613887310028076, 2.5613887310028076, 2.5613887310028076, 2.5613207817077637, 2.5613207817077637, 2.175414562225342, 1.9057585000991821, 1.9057585000991821, 1.801931381225586], \"Term\": [\"https\", \"co\", \"_\", \"que\", \"\\u0627\\u0644\\u0644\\u0647\", \"la\", \"para\", \"get\", \"amp\", \"go\", \"nos\", \"\\u0639\\u0644\\u0649\", \"take\", \"day\", \"du\", \"\\u0627\\u0644\\u0649\", \"nao\", \"por\", \"rt\", \"\\u0627\\u0644\\u0627\", \"good\", \"youtube\", \"dia\", \"call\", \"make\", \"much\", \"need\", \"new\", \"bts\", \"\\u0648\\u0644\\u0627\", \"la\", \"un\", \"esta\", \"bad\", \"awkward\", \"sin\", \"\\u092c\\u0930\\u0932\", \"uppalapatisiva\", \"die\", \"https\", \"co\", \"sx\", \"\\u307e\\u3063\\u3066\\u3066\\u306d\", \"\\u30e9\\u30a4\\u30d5\\u30ea\\u30cf\\u30fc\\u30b5\\u30eb\\u304b\\u3093\\u306f\\u308a\\u307e\\u3057\\u305f\", \"jwpmhlciay\", \"z\", \"\\u304b\\u6d88\\u6ec5\\u3057\\u3066\\u3044\\u305f\", \"isg\", \"daxppbx\", \"\\u0e2d\\u0e2b\\u0e08\\u0e30\\u0e2d\\u0e27\\u0e01\", \"nthw\", \"\\u0e15\\u0e33\\u0e19\\u0e32\\u0e19\", \"\\u0e44\\u0e17\\u0e22\\u0e40\\u0e14\\u0e14\", \"efj\", \"miwastaff\", \"johnsonldc\", \"\\u5c4f\\u98a8\\u6301\\u3063\\u3066\\u306a\\u3044\\u3051\\u3068w\", \"mzre\", \"saboten_ry\", \"gq\", \"\\u0627\\u0644\\u0644\\u0647\", \"para\", \"nos\", \"du\", \"por\", \"rt\", \"youtube\", \"bts\", \"lo\", \"tbt\", \"tweet\", \"twitter\", \"quien\", \"con\", \"yrslater\", \"ama\", \"bighitofficial\", \"btsturn\", \"momentumofpsy\", \"proudofthem\", \"psy_oppa\", \"ynpihxrtpr\", \"una\", \"solo\", \"aqui\", \"jimmy\", \"dan\", \"son\", \"ello\", \"los\", \"love\", \"todo\", \"school\", \"friend\", \"mighty\", \"wannaone\", \"teamaimazing\", \"fffg\", \"guidetae\", \"facil\", \"bit_bum\", \"\\u3053\\u3061\\u3089\\u3082\\u662f\\u975e\\u3053\\u89a7\\u304f\\u305f\\u3055\\u3044\", \"fateapocryphatv\", \"igxgwjwtg\", \"rxnnku\", \"\\u304a\\u3057\\u3089\\u305b\", \"\\u304a\\u5f85\\u305f\\u305b\\u3057\\u307e\\u3057\\u305f\", \"\\u043c\\u0435\\u043d\\u044f\", \"\\u30a2\\u30db\\u30af\\u30ea\\u30d5\\u30a1\", \"\\u043d\\u0430\\u043a\\u043e\\u043d\\u0435\\u0446\", \"\\u0440\\u0430\\u0441\\u043a\\u0440\\u044b\\u043b\\u0438\", \"\\u0e15\\u0e32\\u0e21\\u0e2a\\u0e1a\\u0e32\\u0e22\\u0e40\\u0e25\\u0e22\", \"\\u0e01\\u0e22\\u0e2d\\u0e21\\u0e41\\u0e1e\", \"plobjai\", \"ixgiheau\", \"yyouptdnua\", \"cho\", \"rqk\", \"\\u0b38\\u0b2f\", \"\\u0b38\\u0b2e\\u0b30\\u0b2a\\u0b24\", \"\\u0b2e\\u0b30\", \"\\u0b38\\u0b28\\u0b24\", \"\\u0b13\\u0b21\\u0b36\", \"gotlp\", \"co\", \"https\", \"take\", \"day\", \"call\", \"\\u0648\\u0644\\u0627\", \"\\u0627\\u0644\\u0644\\u0647\\u0645\", \"morning\", \"feeling\", \"sun\", \"isso\", \"\\u0627\\u0644\\u0631\\u064a\\u0627\\u0636\", \"joe\", \"\\u064a\\u0627\\u0631\\u0628\", \"alguien\", \"maybe\", \"\\u0627\\u0646\\u064a\", \"great\", \"\\u0645\\u063a\\u0631\\u062f_\\u0628\\u0630\\u0643\\u0631_\\u0627\\u0644\\u0644\\u0647\", \"\\u0627\\u0644\\u0637\\u0641\", \"\\u064a\\u0648\\u0645\", \"\\u0639\\u0644\\u064a\\u0647\\u0645\", \"ericvideos\", \"single\", \"\\u0627\\u0644\\u064a\\u0647\", \"away\", \"fly\", \"\\u0641\\u062a\\u0631\\u0649\", \"\\u0627\\u0639\\u062c\\u0627\\u0632\", \"\\u0627\\u0644\\u062d\\u0627\\u0642\\u0629\", \"\\u0627\\u0644\\u0642\\u0648\\u0645\", \"\\u0627\\u064a\\u0627\\u0645\", \"\\u0635\\u0631\\u0639\\u0649\", \"\\u0648\\u062b\\u0645\\u0627\\u0646\\u064a\\u0629\", \"\\u0643\\u0627\\u0646\\u0647\\u0645\", \"\\u062e\\u0627\\u0648\\u064a\\u0629\", \"\\u0644\\u064a\\u0627\\u0644\", \"\\u0633\\u062e\\u0631\\u0647\\u0627\", \"\\u0646\\u062e\\u0644\", \"\\u062d\\u0633\\u0648\\u0645\\u0627\", \"\\u0627\\u0644\\u0627\", \"much\", \"time\", \"ficar\", \"heart\", \"president\", \"mugabe\", \"fazer\", \"add\", \"eat\", \"\\u0627\\u0644\\u0638\\u0627\\u0644\\u0645\\u064a\\u0646\", \"hero\", \"say\", \"super\", \"mai\", \"si\", \"state\", \"jogador\", \"white\", \"crazy\", \"wish\", \"\\u0648\\u0644\\u0647\", \"airport\", \"\\u3042\\u308a\\u304b\\u3068\\u3046\\u3053\\u3055\\u3044\\u307e\\u3059\", \"row\", \"pessoas\", \"\\u0627\\u0644\\u0647\", \"presos\", \"\\u0627\\u0646\\u062a\", \"sabe\", \"\\u0627\\u0644\\u0649\", \"como\", \"family\", \"never\", \"ada\", \"queria\", \"tempo\", \"uma\", \"escorpiao\", \"mersal\", \"self\", \"status\", \"pain\", \"mulher\", \"\\u0627\\u062f\\u0631\\u064a\", \"\\u0628\\u0633\", \"end_era\", \"\\u0643\\u062b\\u064a\\u0631\", \"fazia\", \"bicicleta\", \"chutar\", \"batia\", \"nela\", \"cinco\", \"moto\", \"gargalhar\", \"itswiselearn\", \"kdjco\", \"lczf\", \"note\", \"que\", \"amp\", \"dia\", \"pra\", \"esse\", \"grande\", \"lee\", \"trabalho\", \"aos\", \"ela\", \"algo\", \"el\", \"deixa\", \"tao\", \"sua\", \"power\", \"torcida\", \"wing\", \"programa\", \"del\", \"train\", \"vai\", \"perdeu\", \"conceito\", \"escola\", \"lywcarol\", \"amaguen\", \"germa\", \"tipica\", \"lsvlncsxjo\", \"passat\", \"pare\", \"\\u0627\\u0646\\u0627\", \"belajar\", \"cafe\", \"mini\", \"http\", \"\\u043f\\u044f\\u0442\\u044c\", \"\\u043c\\u043e\\u043c\\u0435\\u043d\\u0442\\u0430\", \"\\u0436\\u0434\\u0435\\u0442\", \"\\u0437\\u043e\\u0431\\u043d\\u0438\\u043d\\u0430\", \"\\u043a\\u043e\\u0442\\u043e\\u0440\\u044b\\u0438\", \"\\u043c\\u0435\\u0441\\u044f\\u0446\\u0435\\u0432\", \"\\u043f\\u043e\\u0434\\u0440\\u043e\\u0431\\u043d\\u0435\\u0435\", \"\\u0432\\u043e\\u0438\\u043d\", \"\\u043f\\u0440\\u043e\\u0448\\u043b\\u043e\", \"\\u0440\\u043e\\u0441\\u0441\\u0438\\u044f\", \"gandhi_boy\", \"\\u0441\\u0442\\u0430\\u043d\\u0435\\u0442\", \"\\u0435\\u0449\\u0435\", \"\\u3044\\u3072\\u304d\\u3046\\u308b\\u3055\\u3044\\u306e\\u3066\\u306f\", \"\\u0432\\u043e\\u0437\\u0432\\u0440\\u0430\\u0449\\u0435\\u043d\\u0438\\u044f\", \"\\u0442\\u0440\\u0430\\u0432\\u043c\\u044b\", \"\\u5fc3\\u72b9\\u8c6b\\u800c\\u72d0\\u7591\", \"\\u3064\\u3044\\u3055\\u3063\\u304d\", \"\\u306a\\u3063\\u305f\", \"\\u5bdd\\u308b\\u3068\\u304d\\u591a\\u5206\\u53e3\\u547c\\u5438\\u305f\\u304b\\u3089\", \"yanzhaoghoul\", \"tribeofsweet\", \"sarahbabygirl\", \"rexknightrider\", \"rclad\", \"okuivib\", \"inamb\", \"\\ucc28\\uc774\\ub3c4\", \"wendyrv\", \"\\ub0ac\\ub294\\ub370\", \"\\ub7ec\\ube44\\ub4e4\", \"\\ud558\\ub7ec\\uac00\\uc694\", \"\\uc804\\uc5d0\", \"\\uc5ed\\uc804\\ud569\\uc2dc\\ub31c\", \"\\uc548\\ub098\\uc694\", \"\\ub9cc\\ud45c\\uc815\\ub3c4\", \"\\ub9cc\\ud45c\", \"\\u6b32\\u4ece\\u7075\\u6c1b\\u4e4b\\u5409\\u5360\\u516e\", \"\\u0441\\u0438\\u043b\\u044c\\u043d\\u0435\\u0435\", \"_\", \"show\", \"know\", \"aldub\", \"stweeksary\", \"ever\", \"seria\", \"\\u0627\\u0646\", \"dq\", \"may\", \"bridge\", \"play\", \"fancam\", \"youch\", \"\\u0627\\u062c\\u0645\\u0644\", \"\\u0628\\u0648\\u062c\\u0648\\u062f\\u0643\", \"\\u0645\\u0633\\u0627\\u0621\\u0627\\u0644\\u062e\\u0645\\u064a\\u0633\", \"\\u9996\\u306b\\u304b\\u3075\\u308a\", \"yu_ki_ne\", \"jenasis\", \"wvbr\", \"bury\", \"forever\", \"wannabaeone\", \"fwb\", \"sihun\", \"jihoon\", \"\\u062d\\u062a\\u0649\", \"stop\", \"\\uae40\\uc885\\ud604\", \"get\", \"go\", \"watch\", \"still\", \"could\", \"live\", \"even\", \"life\", \"enough\", \"trump\", \"little\", \"back\", \"due\", \"win\", \"front\", \"would\", \"body\", \"eu\", \"musica\", \"job\", \"vejo\", \"menino\", \"realdonaldtrump\", \"\\u5f15\\u304d\\u3053\\u3082\\u308a\\u305f\", \"request\", \"cherrry_kouta\", \"instant\", \"flowsvitality\", \"delete\", \"newkindofclown\", \"terrific\", \"slightly\", \"mad\", \"make\", \"shit\", \"video\", \"break\", \"african\", \"realize\", \"mom\", \"fantasy\", \"must\", \"drama\", \"actually\", \"twice\", \"\\ud2b8\\uc640\\uc774\\uc2a4\", \"help\", \"bts_twt\", \"campaign\", \"area\", \"mean\", \"nothing\", \"baby\", \"real\", \"believe\", \"d\", \"\\ucbd4\\ubbf8\\ub098\", \"tzuyu\", \"rikfkmx\", \"delta_trap\", \"revolutionary\", \"fellow\", \"dougcoltart\", \"delusion\", \"stateman\", \"pas\", \"\\u03ba\\u03b1\\u03b9\", \"qui\", \"\\u30a2\\u30eb\\u30b9\\u30e9\\u30fc\\u30f3\\u6226\\u8a18\", \"sus\", \"like\", \"community\", \"depuis\", \"\\u0628\\u0646\", \"caractere\", \"julio\", \"cute\", \"\\u03b5\\u03c1\\u03b3\\u03bf\\u03c5\", \"zhgfovmkpr\", \"\\u03b3\\u03c5\\u03bd\\u03b1\\u03b9\\u03ba\\u03c9\\u03bd\", \"\\u03b5\\u03bd\\u03c4\\u03b1\\u03be\\u03b7\\u03c2\", \"\\u03c0\\u03b1\\u03c1\\u03bf\\u03c5\\u03c3\\u03b9\\u03b1\\u03c3\\u03b7\", \"\\u03bc\\u03b5\\u03c4\\u03b1\\u03bd\\u03b1\\u03c3\\u03c4\\u03c9\\u03bd\", \"\\u03c0\\u03c1\\u03bf\\u03c3\\u03c6\\u03c5\\u03b3\\u03c9\\u03bd\", \"\\u03c3\\u03c4\\u03b7\\u03bd\", \"\\u03c4\\u03bf\\u03c5\", \"\\u03c0\\u03c1\\u03b1\\u03ba\\u03c4\\u03b9\\u03ba\\u03b5\\u03c2\", \"\\u03b5\\u03bd\\u03b4\\u03c5\\u03bd\\u03b1\\u03bc\\u03c9\\u03c3\\u03b7\\u03c2\", \"week\", \"totally\", \"teen\", \"welcome\", \"luz\", \"ini\", \"flore\", \"true\", \"pour\", \"\\u064a\\u0642\\u0627\\u062a\\u0644\", \"raulgomez\", \"quiero\", \"invest\", \"tokyo\", \"grow\", \"game\", \"alice\", \"gyouza\", \"black\", \"\\u0627\\u0644\\u0648\\u0637\\u0646\", \"\\u03b1\\u03bb\\u03bb\\u03bf\\u03b9\", \"\\u0648\\u0627\\u0644\\u0631\\u062c\\u0644\", \"\\u0639\\u0646\", \"antonio\", \"oso_guarico\", \"rico\", \"mmmm\", \"cr\", \"wrong\", \"\\u0627\\u0644\\u0646\\u0628\\u064a\", \"varsa\", \"immenso\", \"bisey\", \"agitcisi\", \"boylelerine\", \"vorrei\", \"burada\", \"bizim\", \"\\u30cf\\u30a4\\u30cf\\u30a4\\u304b\\u3066\\u304d\\u307e\\u3057\\u305f\", \"infinita\", \"soyle\", \"amore\", \"ogul_ilker\", \"olunun\", \"nerede\", \"muito\", \"give\", \"last\", \"robert\", \"high\", \"et\", \"today\", \"hoy\", \"sakarya\", \"night\", \"kiss\", \"tell\", \"react\", \"cat\", \"li\", \"tiro\", \"kick\", \"ugdwghqqtd\", \"tristezas\", \"felizjuef\", \"comienzo\", \"alegria\", \"borg\", \"gmmeztxlm\", \"ibeyise\", \"kvhpe\", \"pacheco\", \"puntica\", \"ai\", \"tax\", \"good\", \"new\", \"see\", \"find\", \"experience\", \"qu\", \"be\", \"force\", \"person\", \"ml\", \"really\", \"birthday\", \"star\", \"runs_run\", \"allah\", \"politic\", \"asi\", \"kw\", \"late\", \"read\", \"want\", \"esto\", \"tune\", \"vice\", \"ca\", \"nakakaumay\", \"tama\", \"jusq\", \"belladonna_xyz\", \"grup\", \"kakipii\", \"\\u5341\\u4e8c\\u840c\\u6226\", \"jxq\", \"\\u7d20\\u6575\\u306a\\u4f01\\u753b\\u3042\\u308a\\u304b\\u3068\\u3046\\u3053\\u3055\\u3044\\u307e\\u3059\", \"pm\", \"pero\", \"owgm\", \"skiha\", \"ang\", \"retweet\", \"radio\", \"male\", \"perform\", \"\\u092a\\u0930\", \"nga\", \"deus\", \"nowplay\", \"yung\", \"buti\", \"nlsaikou\", \"\\u3084\\u308a\\u307e\\u3057\\u3087\", \"dotom_jicheol\", \"\\ubc1c\\ubc24\\ubc1c\\ubc24\", \"nwqqha\", \"mmt\", \"hanabishiiii\", \"taxi\", \"ztv\", \"shmd\", \"khea\", \"lol\", \"omg\", \"ettiler\", \"kayo\", \"need\", \"thank\", \"follow\", \"ako\", \"lang\", \"joke\", \"well\", \"change\", \"\\u304a\\u75b2\\u308c\\u69d8\\u3066\\u3059\", \"door\", \"sana\", \"boo\", \"tassia\", \"halseylost\", \"mangahoy\", \"kccabbeyo\", \"milascabellow\", \"kccepoet\", \"oquerestoudenos\", \"ricsl\", \"\\u7ea2\\u85af\\u84b8\", \"poohcabello\", \"squadloveonly\", \"firemoonsun\", \"hrt_a\", \"lynieg\", \"aldubftnqt\", \"\\u3068\\u3066\\u3082\\u7d20\\u6575\\u3066\\u697d\\u3057\\u304b\\u3063\\u305f\\u3066\\u3059\", \"marinak\", \"\\u7684\\u4e8b\\u4e1a\\u8981\\u627f\\u62c5\", \"tropaldub\", \"\\u771f\\u631a\", \"hokagehoney\", \"coramarcelo\", \"aldubnation\", \"iam_mark\", \"man\", \"people\", \"year\", \"shop\", \"come\", \"open\", \"vfzqsh\", \"\\u4f55\\u3053\\u308c\", \"osh\", \"jbj\", \"check\", \"ass\", \"action\", \"imagine\", \"kupu\", \"happy\", \"talk\", \"girl\", \"book\", \"character\", \"burlington\", \"bristol\", \"test\", \"kevinegu\", \"third\", \"tmabuck\", \"osaka\", \"support\", \"minute\", \"trip\", \"wwe\", \"wrestling\", \"diplomatic\", \"match\", \"walshfreedom\", \"\\u0639\\u0644\\u0649\", \"\\u0641\\u064a\\u0647\\u0627\", \"\\u0648\\u0630\\u0644\\u0643\", \"donghae\", \"hold\", \"sea\", \"graca\", \"\\u062e\\u0627\\u0644\\u062f\\u064a\\u0646\", \"\\u0627\\u0644\\u062d\\u0634\\u0631\", \"\\u0641\\u0643\\u0627\\u0646\", \"\\u0627\\u0644\\u0646\\u0627\\u0631\", \"\\u0627\\u0646\\u0647\\u0645\\u0627\", \"\\u062c\\u0632\\u0627\\u0621\", \"\\u0639\\u0627\\u0642\\u0628\\u062a\\u0647\\u0645\\u0627\", \"tem\", \"\\u0639\\u0644\\u064a\\u0647\", \"isteyen\", \"\\u611b\\u77e5\", \"\\u0627\\u0632\\u0627\\u0643\\u0631\", \"\\u0648\\u0633\\u0644\\u0645\", \"\\u064a\\u062d\\u0635\\u0644\\u0648\\u0646\", \"bas\\u0131n\", \"amacl\\u0131\", \"baslat\\u0131lan\", \"ac\\u0131klamas\\u0131\", \"donumunde\", \"zeynabelle\", \"yuksel\", \"yapmak\", \"nuriyevesemih\", \"destek\", \"eylemlerinin\", \"gen\", \"nao\", \"fan\", \"think\", \"com\", \"paz\", \"work\", \"do\", \"face\", \"thursday\", \"lot\", \"\\u59cb\\u307e\\u308b\\u3093\\u305f\", \"\\u30bf\\u30bf\\u77f3\\u3082\\u3063\\u3068\\u304f\\u308c\\u3084\", \"\\u3082\\u3063\\u3068\\u3044\\u3044\\u30e2\\u30f3\\u30b9\\u30bf\\u30fc\\u304f\\u308c\\u3084\", \"akikan\", \"in\\u95a2\\u6771\", \"\\u30ea\\u30a2\\u30eb\\u8131\\u51fa\\u30cb\\u30e5\\u30fc\\u30b3\\u30e9\\u30db\", \"\\u3053\\u306e\", \"\\u3068\\u3046\\u3068\\u3046\", \"tuesday\", \"\\u3044\\u307e\\u307e\\u3066\\u3042\\u308a\\u304b\\u3068\\u3046\", \"\\u3057\\u307e\\u3063\\u3061\\u3083\\u3046\\u304a\\u3057\\u3055\\u3093\\u304b\\u3089\\u306e\\u8131\\u51fa\", \"\\u5e74\\u534a\\u6700\\u9ad8\\u306b\\u697d\\u3057\\u304b\\u3063\\u305f\", \"\\u6700\\u5f8c\\u306e\\u7dcf\\u4f53\\u3082\\u5e02\\u5185\", \"\\u770c\\u3063\\u3066\\u512a\\u52dd\\u3066\\u304d\", \"coracao\", \"faz\", \"car\", \"\\u305f\\u3057\\u304b\\u306b\", \"\\u307e\\u3075\\u304f\\u3093\\u4f53\\u8abf\\u5d29\\u3057\\u3084\\u3059\\u3044\\u304b\\u3089\", \"wind\"], \"Total\": [811.0, 794.0, 85.0, 26.0, 29.0, 41.0, 26.0, 21.0, 18.0, 14.0, 14.0, 10.0, 11.0, 11.0, 13.0, 11.0, 9.0, 12.0, 12.0, 10.0, 9.0, 12.0, 10.0, 10.0, 9.0, 10.0, 8.0, 9.0, 11.0, 9.0, 41.84671401977539, 8.410116195678711, 7.9660539627075195, 6.581381797790527, 5.844066143035889, 5.799586296081543, 5.7576003074646, 5.7576003074646, 5.515541076660156, 811.035888671875, 794.5422973632812, 4.819490909576416, 4.773016929626465, 4.773016929626465, 4.773016452789307, 4.773016452789307, 4.773016929626465, 4.773016452789307, 4.773016929626465, 4.773016452789307, 4.773016452789307, 4.773016452789307, 4.773016452789307, 4.773016452789307, 4.773016929626465, 4.773016452789307, 4.773016452789307, 4.773016452789307, 4.773016452789307, 4.773016452789307, 29.86715316772461, 26.241912841796875, 14.362844467163086, 13.380332946777344, 12.904304504394531, 12.6272554397583, 12.49587631225586, 11.680927276611328, 10.48859977722168, 9.84708023071289, 8.936247825622559, 8.708661079406738, 7.801016807556152, 7.027928829193115, 6.855806350708008, 6.855806350708008, 6.855806350708008, 6.855806350708008, 6.855806350708008, 6.855806350708008, 6.855806350708008, 6.855806350708008, 6.739997386932373, 6.306130886077881, 6.220142841339111, 5.887117385864258, 5.799774169921875, 5.736581325531006, 5.734302043914795, 5.684473037719727, 9.894638061523438, 7.560791492462158, 5.310262680053711, 4.703444004058838, 4.458192348480225, 4.303956985473633, 3.9759066104888916, 3.9759066104888916, 3.9759066104888916, 3.7924790382385254, 3.6695752143859863, 3.669574737548828, 3.669574737548828, 3.669574737548828, 3.669574737548828, 3.669574737548828, 3.669574737548828, 3.6695752143859863, 3.669574737548828, 3.6695752143859863, 3.6695752143859863, 3.669574737548828, 3.669574737548828, 3.669574737548828, 3.669574737548828, 3.6695752143859863, 3.669574737548828, 3.6695754528045654, 3.6695754528045654, 3.6695754528045654, 3.6695754528045654, 3.6695754528045654, 3.6695754528045654, 3.6695754528045654, 794.5422973632812, 811.035888671875, 11.91637134552002, 11.680509567260742, 10.331089973449707, 9.957643508911133, 8.58780574798584, 8.199897766113281, 6.26063346862793, 5.5554962158203125, 5.273227691650391, 4.863619804382324, 4.788913726806641, 4.697925567626953, 4.644007682800293, 4.432631015777588, 4.344852924346924, 4.305689334869385, 4.0987043380737305, 4.094912528991699, 3.8304433822631836, 3.7373218536376953, 3.594454288482666, 3.4780774116516113, 3.3280982971191406, 3.270742416381836, 3.234976053237915, 3.1882240772247314, 3.1882240772247314, 3.1882240772247314, 3.1882240772247314, 3.1882240772247314, 3.1882240772247314, 3.1882240772247314, 3.1882240772247314, 3.1882240772247314, 3.1882240772247314, 3.1882240772247314, 3.1882240772247314, 3.1882240772247314, 10.684091567993164, 10.111783027648926, 8.356534957885742, 7.10972785949707, 7.030487537384033, 6.854628086090088, 6.831940650939941, 6.535012245178223, 6.130520343780518, 6.114756107330322, 6.088993072509766, 5.946850776672363, 5.875734806060791, 5.6531853675842285, 5.511070251464844, 5.34505558013916, 5.2739434242248535, 5.151200294494629, 4.999516487121582, 4.950078010559082, 4.717929363250732, 4.573163032531738, 4.502317428588867, 4.417961597442627, 4.0327301025390625, 3.90596079826355, 3.885266065597534, 3.8822181224823, 3.833980083465576, 3.8128364086151123, 11.138611793518066, 8.865097999572754, 6.511491298675537, 6.095278263092041, 5.759757995605469, 5.376267910003662, 5.3005828857421875, 5.007019519805908, 4.402308464050293, 4.354094982147217, 4.263337135314941, 4.228297233581543, 3.9291038513183594, 3.808213949203491, 3.7497141361236572, 3.7497141361236572, 3.7497141361236572, 3.7497141361236572, 3.749711751937866, 3.749711751937866, 3.749711751937866, 3.749711751937866, 3.749711751937866, 3.749711751937866, 3.749711751937866, 3.749711751937866, 3.7497198581695557, 3.7497198581695557, 3.7497198581695557, 3.7497198581695557, 26.98390769958496, 18.698375701904297, 10.248510360717773, 7.8787689208984375, 7.799859046936035, 5.31544828414917, 4.882101058959961, 4.789265155792236, 4.781707286834717, 4.781022548675537, 4.233620643615723, 4.208582878112793, 4.168642997741699, 3.974745750427246, 3.8100976943969727, 3.612748861312866, 3.598583936691284, 3.5768027305603027, 3.553356647491455, 3.2680916786193848, 3.239718437194824, 3.1297571659088135, 3.122443437576294, 3.122443437576294, 3.122443437576294, 3.122443437576294, 3.1224477291107178, 3.1224477291107178, 3.1224477291107178, 3.1224477291107178, 3.1224477291107178, 3.1224477291107178, 7.1055216789245605, 4.993473052978516, 4.4611897468566895, 3.5163822174072266, 3.5080060958862305, 3.473891019821167, 3.442195415496826, 3.442195415496826, 3.442195415496826, 3.442195415496826, 3.442195415496826, 3.442195415496826, 3.442195415496826, 3.442195415496826, 3.442195415496826, 3.442195415496826, 3.442195415496826, 3.442195415496826, 3.442195415496826, 3.442195415496826, 3.442195415496826, 3.442195415496826, 3.442195415496826, 3.442195415496826, 3.442195415496826, 3.442195415496826, 3.442195415496826, 3.442195415496826, 3.442195415496826, 3.442195415496826, 3.442195415496826, 3.442195415496826, 3.442195415496826, 3.442195415496826, 3.442195415496826, 3.442195415496826, 3.442195415496826, 3.442195415496826, 3.442195415496826, 3.442195415496826, 3.442195415496826, 3.442195415496826, 3.442195415496826, 3.442195415496826, 85.13591003417969, 6.6501970291137695, 5.920846462249756, 5.6730804443359375, 5.6730804443359375, 5.116287708282471, 4.392798900604248, 4.3352952003479, 4.320561408996582, 4.186521530151367, 4.170816898345947, 3.953416347503662, 3.6621930599212646, 3.579395294189453, 3.579395294189453, 3.579395294189453, 3.579395294189453, 3.579395294189453, 3.579395294189453, 3.579404354095459, 3.579404354095459, 3.579388380050659, 3.579388380050659, 3.5793988704681396, 3.5793988704681396, 3.5793988704681396, 3.5793988704681396, 3.5283992290496826, 3.3348031044006348, 3.3203701972961426, 21.295486450195312, 14.958345413208008, 8.906655311584473, 7.486989974975586, 7.3921308517456055, 6.110678672790527, 5.992061614990234, 5.969248294830322, 5.784505367279053, 4.9709062576293945, 4.705484867095947, 4.686105728149414, 4.6018967628479, 4.177403926849365, 4.115427017211914, 3.9493300914764404, 3.877520799636841, 3.654362916946411, 3.574570417404175, 3.436980724334717, 3.397148847579956, 3.3971493244171143, 3.3244738578796387, 3.306816816329956, 3.306816816329956, 3.306816816329956, 3.306816816329956, 3.306816816329956, 3.306816816329956, 3.3068125247955322, 3.3068222999572754, 3.306826591491699, 3.306826591491699, 9.514708518981934, 8.786590576171875, 7.716853141784668, 5.662628650665283, 5.003986835479736, 4.376743316650391, 4.242208957672119, 3.9969005584716797, 3.9380452632904053, 3.738306999206543, 3.7178730964660645, 3.4424800872802734, 3.4424800872802734, 3.368695020675659, 3.322374105453491, 3.313169479370117, 3.3104965686798096, 3.29233455657959, 3.252136468887329, 3.2387259006500244, 3.205711603164673, 3.1608388423919678, 3.1242527961730957, 3.096405506134033, 3.096405506134033, 3.096405506134033, 3.096405506134033, 3.0964038372039795, 3.0964038372039795, 3.0964038372039795, 3.0964038372039795, 3.0964038372039795, 8.966765403747559, 8.285575866699219, 5.098822593688965, 4.34309196472168, 4.246366500854492, 3.9752886295318604, 3.8217062950134277, 3.7686097621917725, 3.6521167755126953, 3.4282944202423096, 3.3302407264709473, 3.293043613433838, 3.120527982711792, 3.120527982711792, 3.120527982711792, 3.120527982711792, 3.120527982711792, 3.120527982711792, 3.120527982711792, 3.120527982711792, 3.120527982711792, 3.120527982711792, 3.120527982711792, 2.99902081489563, 2.941763162612915, 2.779848337173462, 2.71233868598938, 2.566798448562622, 2.566798210144043, 2.548018217086792, 6.6112380027771, 5.293929100036621, 4.814451217651367, 4.648104190826416, 4.111763000488281, 4.026951313018799, 3.7675461769104004, 3.7675464153289795, 3.670754909515381, 3.5877537727355957, 3.5877537727355957, 3.5257749557495117, 3.521244525909424, 3.4058008193969727, 3.4058008193969727, 3.344489574432373, 3.326223850250244, 3.326223850250244, 3.326223850250244, 3.326223850250244, 2.997638702392578, 2.974731922149658, 2.8115320205688477, 2.6183013916015625, 2.6183013916015625, 2.6183013916015625, 2.6183013916015625, 2.6183013916015625, 2.6183013916015625, 2.6183013916015625, 2.6183013916015625, 2.6183013916015625, 2.6183013916015625, 2.6183013916015625, 2.6183013916015625, 2.6183013916015625, 2.6183013916015625, 2.6183013916015625, 7.086030006408691, 6.3387932777404785, 4.834910869598389, 4.718250751495361, 4.576085567474365, 4.311339855194092, 4.2403974533081055, 4.205727577209473, 4.186141490936279, 4.108458995819092, 3.9376840591430664, 3.6457772254943848, 3.5855417251586914, 3.5855419635772705, 3.5515713691711426, 3.45489239692688, 3.2966883182525635, 3.235647201538086, 3.235647201538086, 3.235647201538086, 3.235647201538086, 3.235647201538086, 3.235661506652832, 3.235661506652832, 3.235661506652832, 3.235661506652832, 3.235661506652832, 3.235661506652832, 3.185699462890625, 2.917001724243164, 9.665844917297363, 9.069534301757812, 7.035370826721191, 5.647815704345703, 5.5742669105529785, 5.468794822692871, 5.295135021209717, 4.829748153686523, 4.645393371582031, 4.331489562988281, 4.1452860832214355, 4.074337005615234, 3.885622262954712, 3.6506292819976807, 3.5100486278533936, 3.484894037246704, 3.386547803878784, 3.3865480422973633, 3.254831552505493, 3.2104218006134033, 3.1993768215179443, 3.1712734699249268, 3.118133306503296, 3.082746982574463, 3.072549343109131, 3.059879779815674, 3.059879779815674, 3.059879779815674, 3.059880018234253, 3.059887170791626, 3.059890031814575, 3.059890031814575, 3.059890031814575, 3.059890031814575, 8.563319206237793, 6.126463413238525, 5.652059555053711, 5.652059555053711, 5.110994815826416, 4.711235523223877, 4.351017475128174, 4.342726707458496, 4.082536697387695, 3.8895320892333984, 3.454930305480957, 3.4512062072753906, 3.2658042907714844, 3.1718251705169678, 3.1483988761901855, 3.12027907371521, 3.12027907371521, 3.12027907371521, 3.12027907371521, 3.120286464691162, 3.120286464691162, 3.120286464691162, 3.120286464691162, 3.120295524597168, 3.120295524597168, 3.120295524597168, 3.037611722946167, 2.9358863830566406, 2.7080764770507812, 2.536485433578491, 8.99666976928711, 6.127119541168213, 5.522540092468262, 5.403783798217773, 5.38295316696167, 4.483444690704346, 3.8960683345794678, 3.552917003631592, 3.30529522895813, 3.2336065769195557, 3.1851305961608887, 3.1851303577423096, 3.111781358718872, 3.111781358718872, 3.111781358718872, 3.111781358718872, 3.111781358718872, 3.111781358718872, 3.111781358718872, 3.111781358718872, 3.111781358718872, 3.111781358718872, 3.111781358718872, 3.111781358718872, 3.111781358718872, 3.111781358718872, 3.111781358718872, 3.111781358718872, 3.111781358718872, 3.111781358718872, 3.111781358718872, 3.111781358718872, 3.111781358718872, 3.111781358718872, 3.111781358718872, 3.111781358718872, 6.543951511383057, 5.872320652008057, 5.6139936447143555, 5.347565650939941, 5.105637550354004, 4.8320159912109375, 4.825784683227539, 4.825784683227539, 4.825784683227539, 4.76214075088501, 4.748723983764648, 4.41655158996582, 4.41633415222168, 4.3575239181518555, 4.336446762084961, 4.0638251304626465, 3.8891212940216064, 3.8871922492980957, 3.6221935749053955, 3.594818115234375, 3.5458712577819824, 3.5458712577819824, 3.5458712577819824, 3.5458712577819824, 3.5458712577819824, 3.5458712577819824, 3.5458714962005615, 3.474311590194702, 3.3673408031463623, 3.1160435676574707, 3.1160435676574707, 3.1160435676574707, 3.1160435676574707, 3.1160435676574707, 3.1160435676574707, 10.653322219848633, 5.076499938964844, 4.956665515899658, 3.835536003112793, 3.516680955886841, 3.389774799346924, 3.1603753566741943, 3.101189136505127, 3.101189136505127, 3.101189136505127, 3.101189136505127, 3.101189136505127, 3.101189136505127, 3.101189136505127, 2.773386240005493, 2.7515690326690674, 2.7426555156707764, 2.7339084148406982, 2.7339088916778564, 2.640181541442871, 2.4773426055908203, 2.4439761638641357, 2.4439761638641357, 2.4439761638641357, 2.4439761638641357, 2.4439761638641357, 2.4439761638641357, 2.4439761638641357, 2.4439761638641357, 2.4439761638641357, 2.4439761638641357, 2.4439761638641357, 2.4439761638641357, 9.570426940917969, 6.101517677307129, 5.751221656799316, 5.358302593231201, 4.690056324005127, 4.655125141143799, 3.9501845836639404, 3.7616593837738037, 3.632998466491699, 3.15516996383667, 3.1240086555480957, 3.124009132385254, 3.124009132385254, 3.124009132385254, 3.124009132385254, 3.1240086555480957, 3.124009132385254, 3.1240086555480957, 3.124009132385254, 3.124009132385254, 3.1240086555480957, 3.124009132385254, 3.124009132385254, 3.124009132385254, 3.1240170001983643, 3.1240170001983643, 2.738034963607788, 2.468378782272339, 2.468378782272339, 2.3645517826080322], \"loglift\": [30.0, 29.0, 28.0, 27.0, 26.0, 25.0, 24.0, 23.0, 22.0, 21.0, 20.0, 19.0, 18.0, 17.0, 16.0, 15.0, 14.0, 13.0, 12.0, 11.0, 10.0, 9.0, 8.0, 7.0, 6.0, 5.0, 4.0, 3.0, 2.0, 1.0, 1.8912999629974365, 1.8372999429702759, 1.833400011062622, 1.8178000450134277, 1.806399941444397, 1.8056000471115112, 1.804800033569336, 1.804800033569336, 1.8001999855041504, 1.7903000116348267, 1.7883000373840332, 1.7841999530792236, 1.7829999923706055, 1.7829999923706055, 1.7829999923706055, 1.7829999923706055, 1.7829999923706055, 1.7829999923706055, 1.7829999923706055, 1.7829999923706055, 1.7829999923706055, 1.7829999923706055, 1.7829999923706055, 1.7829999923706055, 1.7829999923706055, 1.7829999923706055, 1.7829999923706055, 1.7829999923706055, 1.7829999923706055, 1.7829999923706055, 2.614300012588501, 2.6117000579833984, 2.593899965286255, 2.5910000801086426, 2.589400053024292, 2.588399887084961, 2.5880000591278076, 2.5848000049591064, 2.579200029373169, 2.5755999088287354, 2.5696001052856445, 2.5678000450134277, 2.559999942779541, 2.5517001152038574, 2.5495998859405518, 2.5495998859405518, 2.5495998859405518, 2.5495998859405518, 2.5495998859405518, 2.5495998859405518, 2.5495998859405518, 2.5495998859405518, 2.548099994659424, 2.5420000553131104, 2.540600061416626, 2.5352001190185547, 2.533600091934204, 2.5325000286102295, 2.532399892807007, 2.5315001010894775, 2.7604000568389893, 2.74180006980896, 2.7074999809265137, 2.6923000812530518, 2.6849000453948975, 2.679800033569336, 2.6673998832702637, 2.6673998832702637, 2.6673998832702637, 2.6594998836517334, 2.653700113296509, 2.653700113296509, 2.653700113296509, 2.653700113296509, 2.653700113296509, 2.653700113296509, 2.653700113296509, 2.653700113296509, 2.653700113296509, 2.653700113296509, 2.653700113296509, 2.653700113296509, 2.653700113296509, 2.653700113296509, 2.653700113296509, 2.653700113296509, 2.653700113296509, 2.653700113296509, 2.653700113296509, 2.653700113296509, 2.653700113296509, 2.653700113296509, 2.653700113296509, 2.653700113296509, 0.6021000146865845, 0.5853000283241272, 2.9233999252319336, 2.922499895095825, 2.9158999919891357, 2.913800001144409, 2.904400110244751, 2.901099920272827, 2.878499984741211, 2.8661000728607178, 2.8601999282836914, 2.8503000736236572, 2.848299980163574, 2.8457999229431152, 2.8441998958587646, 2.8378000259399414, 2.83489990234375, 2.8334999084472656, 2.8261001110076904, 2.825900077819824, 2.8150999546051025, 2.8108999729156494, 2.803999900817871, 2.7978999614715576, 2.789299964904785, 2.785799980163574, 2.783600091934204, 2.7804999351501465, 2.7804999351501465, 2.7804999351501465, 2.7804999351501465, 2.7804999351501465, 2.7804999351501465, 2.7804999351501465, 2.7804999351501465, 2.7804999351501465, 2.7804999351501465, 2.7804999351501465, 2.7804999351501465, 2.7804999351501465, 2.9435999393463135, 2.940500020980835, 2.928100109100342, 2.9154999256134033, 2.914599895477295, 2.912400007247925, 2.912100076675415, 2.9079999923706055, 2.901900053024292, 2.901599884033203, 2.90120005607605, 2.8987998962402344, 2.8975000381469727, 2.893399953842163, 2.8905999660491943, 2.8870999813079834, 2.885499954223633, 2.882699966430664, 2.878999948501587, 2.877700090408325, 2.871500015258789, 2.8671998977661133, 2.865000009536743, 2.862299919128418, 2.8485000133514404, 2.8431999683380127, 2.842400074005127, 2.8422000408172607, 2.840100049972534, 2.839200019836426, 2.9862000942230225, 2.972599983215332, 2.9481000900268555, 2.941699981689453, 2.9358999729156494, 2.9282000064849854, 2.9265999794006348, 2.9196999073028564, 2.902400016784668, 2.9007999897003174, 2.897599935531616, 2.896399974822998, 2.8847999572753906, 2.879499912261963, 2.8768999576568604, 2.8768999576568604, 2.8768999576568604, 2.8768999576568604, 2.8768999576568604, 2.8768999576568604, 2.8768999576568604, 2.8768999576568604, 2.8768999576568604, 2.8768999576568604, 2.8768999576568604, 2.8768999576568604, 2.8768999576568604, 2.8768999576568604, 2.8768999576568604, 2.8768999576568604, 3.044800043106079, 3.0353000164031982, 3.009399890899658, 2.9916999340057373, 2.990999937057495, 2.953900098800659, 2.9433999061584473, 2.9409000873565674, 2.9405999183654785, 2.9405999183654785, 2.9231998920440674, 2.922300100326538, 2.920799970626831, 2.9131999015808105, 2.9059998989105225, 2.8965001106262207, 2.8958001136779785, 2.894700050354004, 2.893399953842163, 2.8768999576568604, 2.8750998973846436, 2.8677000999450684, 2.8671000003814697, 2.8671000003814697, 2.8671000003814697, 2.8671000003814697, 2.8671000003814697, 2.8671000003814697, 2.8671000003814697, 2.8671000003814697, 2.8671000003814697, 2.8671000003814697, 2.990000009536743, 2.953200101852417, 2.937999963760376, 2.898699998855591, 2.8982999324798584, 2.896399974822998, 2.8945999145507812, 2.8945999145507812, 2.8945999145507812, 2.8945999145507812, 2.8945999145507812, 2.8945999145507812, 2.8945999145507812, 2.8945999145507812, 2.8945999145507812, 2.8945999145507812, 2.8945999145507812, 2.8945999145507812, 2.8945999145507812, 2.8945999145507812, 2.8945999145507812, 2.8945999145507812, 2.8945999145507812, 2.8945999145507812, 2.8945999145507812, 2.8945999145507812, 2.8945999145507812, 2.8945999145507812, 2.8945999145507812, 2.8945999145507812, 2.8945999145507812, 2.8945999145507812, 2.8945999145507812, 2.8945999145507812, 2.8945999145507812, 2.8945999145507812, 2.8945999145507812, 2.8945999145507812, 2.8945999145507812, 2.8945999145507812, 2.8945999145507812, 2.8945999145507812, 2.8945999145507812, 2.8945999145507812, 3.1087000370025635, 3.0276999473571777, 3.0162999629974365, 3.0118000507354736, 3.0118000507354736, 2.999799966812134, 2.9795000553131104, 2.9774999618530273, 2.9769999980926514, 2.9723000526428223, 2.9716999530792236, 2.963099956512451, 2.950000047683716, 2.9458000659942627, 2.9458000659942627, 2.9458000659942627, 2.9458000659942627, 2.9458000659942627, 2.9458000659942627, 2.9458000659942627, 2.9458000659942627, 2.9458000659942627, 2.9458000659942627, 2.9458000659942627, 2.9458000659942627, 2.9458000659942627, 2.9458000659942627, 2.94320011138916, 2.9321999549865723, 2.931299924850464, 3.096299886703491, 3.0848000049591064, 3.0578999519348145, 3.045099973678589, 3.044100046157837, 3.026700019836426, 3.0246999263763428, 3.0243000984191895, 3.0209999084472656, 3.0032999515533447, 2.9960999488830566, 2.995500087738037, 2.993000030517578, 2.978800058364868, 2.9765000343322754, 2.9697999954223633, 2.9667999744415283, 2.956399917602539, 2.9523000717163086, 2.9447999000549316, 2.9426000118255615, 2.9426000118255615, 2.938199996948242, 2.9370999336242676, 2.9370999336242676, 2.9370999336242676, 2.9370999336242676, 2.9370999336242676, 2.9370999336242676, 2.9370999336242676, 2.9370999336242676, 2.9370999336242676, 2.9370999336242676, 3.092900037765503, 3.0876998901367188, 3.078200101852417, 3.0492000579833984, 3.034600019454956, 3.016200065612793, 3.0114998817443848, 3.0020999908447266, 2.9997000694274902, 2.9907000064849854, 2.9897000789642334, 2.975399971008301, 2.975399971008301, 2.971100091934204, 2.9683001041412354, 2.9677000045776367, 2.9674999713897705, 2.966399908065796, 2.963900089263916, 2.9630000591278076, 2.9607999324798584, 2.9577999114990234, 2.955199956893921, 2.9532999992370605, 2.9532999992370605, 2.9532999992370605, 2.9532999992370605, 2.953200101852417, 2.953200101852417, 2.953200101852417, 2.953200101852417, 2.953200101852417, 3.096400022506714, 3.09089994430542, 3.044300079345703, 3.0225000381469727, 3.0190999507904053, 3.0085999965667725, 3.0018999576568604, 2.999500036239624, 2.9939000606536865, 2.9818999767303467, 2.976099967956543, 2.97379994392395, 2.962399959564209, 2.962399959564209, 2.962399959564209, 2.962399959564209, 2.962399959564209, 2.962399959564209, 2.962399959564209, 2.962399959564209, 2.962399959564209, 2.962399959564209, 2.962399959564209, 2.953399896621704, 2.948899984359741, 2.934999942779541, 2.9286999702453613, 2.913800001144409, 2.913800001144409, 2.9117000102996826, 3.1112000942230225, 3.0878000259399414, 3.0759999752044678, 3.071199893951416, 3.0532000064849854, 3.0499000549316406, 3.0387001037597656, 3.0387001037597656, 3.03410005569458, 3.029900074005127, 3.029900074005127, 3.026599884033203, 3.026400089263916, 3.01990008354187, 3.01990008354187, 3.0162999629974365, 3.015199899673462, 3.015199899673462, 3.015199899673462, 3.015199899673462, 2.9927000999450684, 2.990999937057495, 2.977400064468384, 2.9588000774383545, 2.9588000774383545, 2.9588000774383545, 2.9588000774383545, 2.9588000774383545, 2.9588000774383545, 2.9588000774383545, 2.9588000774383545, 2.9588000774383545, 2.9588000774383545, 2.9588000774383545, 2.9588000774383545, 2.9588000774383545, 2.9588000774383545, 2.9588000774383545, 3.142899990081787, 3.132699966430664, 3.1019999980926514, 3.09879994392395, 3.094599962234497, 3.085900068283081, 3.083400011062622, 3.082200050354004, 3.081399917602539, 3.0785000324249268, 3.0715999603271484, 3.058199882507324, 3.0550999641418457, 3.0550999641418457, 3.0534000396728516, 3.048099994659424, 3.0387001037597656, 3.0348000526428223, 3.0348000526428223, 3.0348000526428223, 3.0348000526428223, 3.0348000526428223, 3.0348000526428223, 3.0348000526428223, 3.0348000526428223, 3.0348000526428223, 3.0348000526428223, 3.0348000526428223, 3.031599998474121, 3.011699914932251, 3.172600030899048, 3.1684999465942383, 3.149199962615967, 3.1275999546051025, 3.1261000633239746, 3.1238999366760254, 3.1201000213623047, 3.108599901199341, 3.1033999919891357, 3.0933001041412354, 3.0866000652313232, 3.0838000774383545, 3.0759999752044678, 3.065000057220459, 3.0576999187469482, 3.056299924850464, 3.0506999492645264, 3.0506999492645264, 3.04259991645813, 3.0397000312805176, 3.0390000343322754, 3.037100076675415, 3.033400058746338, 3.0308001041412354, 3.030100107192993, 3.0292000770568848, 3.0292000770568848, 3.0292000770568848, 3.0292000770568848, 3.0292000770568848, 3.0292000770568848, 3.0292000770568848, 3.0292000770568848, 3.0292000770568848, 3.2000999450683594, 3.171799898147583, 3.1631999015808105, 3.1631999015808105, 3.1514999866485596, 3.140899896621704, 3.1296000480651855, 3.129300117492676, 3.119800090789795, 3.111799955368042, 3.0903000831604004, 3.090100049972534, 3.0789999961853027, 3.0727999210357666, 3.071199893951416, 3.069200038909912, 3.069200038909912, 3.069200038909912, 3.069200038909912, 3.069200038909912, 3.069200038909912, 3.069200038909912, 3.069200038909912, 3.069200038909912, 3.069200038909912, 3.069200038909912, 3.063199996948242, 3.055299997329712, 3.0352001190185547, 3.0172998905181885, 3.2081000804901123, 3.176300048828125, 3.1651999950408936, 3.1626999378204346, 3.1623001098632812, 3.1386001110076904, 3.1166999340057373, 3.1001999378204346, 3.0859999656677246, 3.0815000534057617, 3.0782999992370605, 3.0782999992370605, 3.073199987411499, 3.073199987411499, 3.073199987411499, 3.073199987411499, 3.073199987411499, 3.073199987411499, 3.073199987411499, 3.073199987411499, 3.073199987411499, 3.073199987411499, 3.073199987411499, 3.073199987411499, 3.073199987411499, 3.073199987411499, 3.073199987411499, 3.073199987411499, 3.073199987411499, 3.073199987411499, 3.073199987411499, 3.073199987411499, 3.073199987411499, 3.073199987411499, 3.073199987411499, 3.073199987411499, 3.1888999938964844, 3.178100109100342, 3.1731998920440674, 3.1677000522613525, 3.162100076675415, 3.1549999713897705, 3.154900074005127, 3.154900074005127, 3.154900074005127, 3.15310001373291, 3.1526999473571777, 3.1426000595092773, 3.1424999237060547, 3.1405999660491943, 3.139899969100952, 3.1298000812530518, 3.1226000785827637, 3.122499942779541, 3.109999895095825, 3.108599901199341, 3.1059999465942383, 3.1059999465942383, 3.1059999465942383, 3.1059999465942383, 3.1059999465942383, 3.1059999465942383, 3.1059999465942383, 3.1022000312805176, 3.0959999561309814, 3.079699993133545, 3.079699993133545, 3.079699993133545, 3.079699993133545, 3.079699993133545, 3.079699993133545, 3.259999990463257, 3.196700096130371, 3.193700075149536, 3.1554999351501465, 3.1398000717163086, 3.1326000690460205, 3.1180999279022217, 3.1138999462127686, 3.1138999462127686, 3.1138999462127686, 3.1138999462127686, 3.1138999462127686, 3.1138999462127686, 3.1138999462127686, 3.087399959564209, 3.0852999687194824, 3.0845000743865967, 3.083699941635132, 3.083699941635132, 3.074399948120117, 3.05649995803833, 3.0524001121520996, 3.0524001121520996, 3.0524001121520996, 3.0524001121520996, 3.0524001121520996, 3.0524001121520996, 3.0524001121520996, 3.0524001121520996, 3.0524001121520996, 3.0524001121520996, 3.0524001121520996, 3.0524001121520996, 3.3213000297546387, 3.285099983215332, 3.278899908065796, 3.270900011062622, 3.2541000843048096, 3.253000020980835, 3.2281999588012695, 3.2197999954223633, 3.213599920272827, 3.1854000091552734, 3.183300018310547, 3.183300018310547, 3.183300018310547, 3.183300018310547, 3.183300018310547, 3.183300018310547, 3.183300018310547, 3.183300018310547, 3.183300018310547, 3.183300018310547, 3.183300018310547, 3.183300018310547, 3.183300018310547, 3.183300018310547, 3.183199882507324, 3.183199882507324, 3.1517999172210693, 3.123199939727783, 3.123199939727783, 3.110100030899048], \"logprob\": [30.0, 29.0, 28.0, 27.0, 26.0, 25.0, 24.0, 23.0, 22.0, 21.0, 20.0, 19.0, 18.0, 17.0, 16.0, 15.0, 14.0, 13.0, 12.0, 11.0, 10.0, 9.0, 8.0, 7.0, 6.0, 5.0, 4.0, 3.0, 2.0, 1.0, -4.14709997177124, -5.805699825286865, -5.863800048828125, -6.070300102233887, -6.2006001472473145, -6.209000110626221, -6.217100143432617, -6.217100143432617, -6.264599800109863, -1.2838000059127808, -1.306399941444397, -6.415500164031982, -6.426499843597412, -6.426499843597412, -6.426499843597412, -6.426499843597412, -6.426499843597412, -6.426499843597412, -6.426499843597412, -6.426499843597412, -6.426499843597412, -6.426499843597412, -6.426499843597412, -6.426499843597412, -6.426499843597412, -6.426499843597412, -6.426499843597412, -6.426499843597412, -6.426499843597412, -6.426499843597412, -3.761399984359741, -3.893399953842163, -4.513899803161621, -4.587600231170654, -4.625400066375732, -4.648099899291992, -4.658999919891357, -4.729700088500977, -4.8429999351501465, -4.9096999168396, -5.012700080871582, -5.040200233459473, -5.158100128173828, -5.2708001136779785, -5.297800064086914, -5.297800064086914, -5.297800064086914, -5.297800064086914, -5.297800064086914, -5.297800064086914, -5.297800064086914, -5.297800064086914, -5.316299915313721, -5.388899803161621, -5.4039998054504395, -5.4644999504089355, -5.480999946594238, -5.493100166320801, -5.493500232696533, -5.503200054168701, -4.71999979019165, -5.007599830627441, -5.395199775695801, -5.531799793243408, -5.592800140380859, -5.6331000328063965, -5.724699974060059, -5.724699974060059, -5.724699974060059, -5.779900074005127, -5.818600177764893, -5.818600177764893, -5.818600177764893, -5.818600177764893, -5.818600177764893, -5.818600177764893, -5.818600177764893, -5.818600177764893, -5.818600177764893, -5.818600177764893, -5.818600177764893, -5.818600177764893, -5.818600177764893, -5.818600177764893, -5.818600177764893, -5.818600177764893, -5.818600177764893, -5.818600177764893, -5.818600177764893, -5.818600177764893, -5.818600177764893, -5.818600177764893, -5.818600177764893, -5.818600177764893, -2.4925999641418457, -2.488800048828125, -4.371099948883057, -4.392000198364258, -4.521299839019775, -4.560200214385986, -4.717700004577637, -4.767099857330322, -5.059599876403809, -5.191500186920166, -5.249599933624268, -5.3403000831604, -5.357800006866455, -5.379499912261963, -5.392600059509277, -5.445700168609619, -5.468500137329102, -5.478899955749512, -5.535699844360352, -5.5366997718811035, -5.614299774169922, -5.643099784851074, -5.689000129699707, -5.728099822998047, -5.780700206756592, -5.801599979400635, -5.814799785614014, -5.832399845123291, -5.832399845123291, -5.832399845123291, -5.832399845123291, -5.832399845123291, -5.832399845123291, -5.832399845123291, -5.832399845123291, -5.832399845123291, -5.832399845123291, -5.832399845123291, -5.832399845123291, -5.832399845123291, -4.460100173950195, -4.5183000564575195, -4.721199989318848, -4.895400047302246, -4.907599925994873, -4.935100078582764, -4.938700199127197, -4.987199783325195, -5.057300090789795, -5.060100078582764, -5.064799785614014, -5.090799808502197, -5.104100227355957, -5.1468000411987305, -5.175099849700928, -5.209199905395508, -5.224100112915039, -5.250500202178955, -5.28410005569458, -5.295300006866455, -5.349599838256836, -5.385000228881836, -5.4028000831604, -5.4243998527526855, -5.5295000076293945, -5.566699981689453, -5.57289981842041, -5.573800086975098, -5.588399887084961, -5.594900131225586, -4.375800132751465, -4.617700099945068, -4.950699806213379, -5.023200035095215, -5.085599899291992, -5.162199974060059, -5.177999973297119, -5.2418999671936035, -5.387899875640869, -5.4004998207092285, -5.424699783325195, -5.434199810028076, -5.519199848175049, -5.555699825286865, -5.57390022277832, -5.57390022277832, -5.57390022277832, -5.57390022277832, -5.57390022277832, -5.57390022277832, -5.57390022277832, -5.57390022277832, -5.57390022277832, -5.57390022277832, -5.57390022277832, -5.57390022277832, -5.57390022277832, -5.57390022277832, -5.57390022277832, -5.57390022277832, -3.4323999881744385, -3.8087000846862793, -4.4359002113342285, -4.7164998054504395, -4.72730016708374, -5.147799968719482, -5.243500232696533, -5.265200138092041, -5.267000198364258, -5.267099857330322, -5.406099796295166, -5.413000106811523, -5.423999786376953, -5.479300022125244, -5.52869987487793, -5.591400146484375, -5.596099853515625, -5.603300094604492, -5.611100196838379, -5.711299896240234, -5.72189998626709, -5.763800144195557, -5.76669979095459, -5.76669979095459, -5.76669979095459, -5.76669979095459, -5.76669979095459, -5.76669979095459, -5.76669979095459, -5.76669979095459, -5.76669979095459, -5.76669979095459, -4.821499824523926, -5.211100101470947, -5.339000225067139, -5.616199970245361, -5.619100093841553, -5.63070011138916, -5.64169979095459, -5.64169979095459, -5.64169979095459, -5.64169979095459, -5.64169979095459, -5.64169979095459, -5.64169979095459, -5.64169979095459, -5.64169979095459, -5.64169979095459, -5.64169979095459, -5.64169979095459, -5.64169979095459, -5.64169979095459, -5.64169979095459, -5.64169979095459, -5.64169979095459, -5.64169979095459, -5.64169979095459, -5.64169979095459, -5.64169979095459, -5.64169979095459, -5.64169979095459, -5.64169979095459, -5.64169979095459, -5.64169979095459, -5.64169979095459, -5.64169979095459, -5.64169979095459, -5.64169979095459, -5.64169979095459, -5.64169979095459, -5.64169979095459, -5.64169979095459, -5.64169979095459, -5.64169979095459, -5.64169979095459, -5.64169979095459, -2.219399929046631, -4.850100040435791, -4.97760009765625, -5.024899959564209, -5.024899959564209, -5.140200138092041, -5.313000202178955, -5.328100204467773, -5.331999778747559, -5.368299961090088, -5.372600078582764, -5.434700012207031, -5.524400234222412, -5.551400184631348, -5.551400184631348, -5.551400184631348, -5.551400184631348, -5.551400184631348, -5.551400184631348, -5.551400184631348, -5.551400184631348, -5.551400184631348, -5.551400184631348, -5.551400184631348, -5.551400184631348, -5.551400184631348, -5.551400184631348, -5.568399906158447, -5.635799884796143, -5.640999794006348, -3.6175999641418457, -3.9823999404907227, -4.527699947357178, -4.714099884033203, -4.72790002822876, -4.935699939727783, -4.957300186157227, -4.96150016784668, -4.996200084686279, -5.165500164031982, -5.22760009765625, -5.2322998046875, -5.252900123596191, -5.363900184631348, -5.381199836730957, -5.428999900817871, -5.450500011444092, -5.520100116729736, -5.546199798583984, -5.5929999351501465, -5.606900215148926, -5.606900215148926, -5.632900238037109, -5.6392998695373535, -5.6392998695373535, -5.6392998695373535, -5.6392998695373535, -5.6392998695373535, -5.6392998695373535, -5.6392998695373535, -5.6392998695373535, -5.6392998695373535, -5.6392998695373535, -4.426599979400635, -4.511499881744385, -4.6508002281188965, -4.989299774169922, -5.127600193023682, -5.279900074005127, -5.315800189971924, -5.384799957275391, -5.402100086212158, -5.463099956512451, -5.4695000648498535, -5.5609002113342285, -5.5609002113342285, -5.5868000984191895, -5.603499889373779, -5.606800079345703, -5.607800006866455, -5.6143999099731445, -5.629199981689453, -5.634200096130371, -5.646699905395508, -5.66379976272583, -5.677999973297119, -5.688899993896484, -5.688899993896484, -5.688899993896484, -5.688899993896484, -5.688899993896484, -5.688899993896484, -5.688899993896484, -5.688899993896484, -5.688899993896484, -4.482500076293945, -4.566999912261963, -5.099100112915039, -5.281400203704834, -5.307300090789795, -5.383699893951416, -5.429800033569336, -5.446199893951416, -5.4832000732421875, -5.5584001541137695, -5.593200206756592, -5.606800079345703, -5.671999931335449, -5.671999931335449, -5.671999931335449, -5.671999931335449, -5.671999931335449, -5.671999931335449, -5.671999931335449, -5.671999931335449, -5.671999931335449, -5.671999931335449, -5.671999931335449, -5.720699787139893, -5.744500160217285, -5.815000057220459, -5.845900058746338, -5.915999889373779, -5.915999889373779, -5.9253997802734375, -4.772500038146973, -5.01800012588501, -5.124800205230713, -5.164700031280518, -5.3053998947143555, -5.329500198364258, -5.407299995422363, -5.407299995422363, -5.438000202178955, -5.465000152587891, -5.465000152587891, -5.4857001304626465, -5.487199783325195, -5.5269999504089355, -5.5269999504089355, -5.548799991607666, -5.5553998947143555, -5.5553998947143555, -5.5553998947143555, -5.5553998947143555, -5.68179988861084, -5.691299915313721, -5.761300086975098, -5.85099983215332, -5.85099983215332, -5.85099983215332, -5.85099983215332, -5.85099983215332, -5.85099983215332, -5.85099983215332, -5.85099983215332, -5.85099983215332, -5.85099983215332, -5.85099983215332, -5.85099983215332, -5.85099983215332, -5.85099983215332, -5.85099983215332, -4.67140007019043, -4.793000221252441, -5.0945000648498535, -5.122200012207031, -5.1570000648498535, -5.225200176239014, -5.24429988861084, -5.253799915313721, -5.259200096130371, -5.280900001525879, -5.3302001953125, -5.420599937438965, -5.440400123596191, -5.440400123596191, -5.451600074768066, -5.484499931335449, -5.5406999588012695, -5.563300132751465, -5.563300132751465, -5.563300132751465, -5.563300132751465, -5.563300132751465, -5.563300132751465, -5.563300132751465, -5.563300132751465, -5.563300132751465, -5.563300132751465, -5.563300132751465, -5.582200050354004, -5.690199851989746, -4.331200122833252, -4.39900016784668, -4.672299861907959, -4.913599967956543, -4.928199768066406, -4.949399948120117, -4.985499858856201, -5.089000225067139, -5.133200168609619, -5.213200092315674, -5.263899803161621, -5.283899784088135, -5.339099884033203, -5.412499904632568, -5.459099769592285, -5.467700004577637, -5.5019001960754395, -5.5019001960754395, -5.549699783325195, -5.566299915313721, -5.570499897003174, -5.581200122833252, -5.601799964904785, -5.615699768066406, -5.619800090789795, -5.624899864196777, -5.624899864196777, -5.624899864196777, -5.624899864196777, -5.624899864196777, -5.624899864196777, -5.624899864196777, -5.624899864196777, -5.624899864196777, -4.424799919128418, -4.788000106811523, -4.877200126647949, -4.877200126647949, -4.98960018157959, -5.081600189208984, -5.172399997711182, -5.174600124359131, -5.2459001541137695, -5.302299976348877, -5.442299842834473, -5.443600177764893, -5.509900093078613, -5.545300006866455, -5.554299831390381, -5.565199851989746, -5.565199851989746, -5.565199851989746, -5.565199851989746, -5.565199851989746, -5.565199851989746, -5.565199851989746, -5.565199851989746, -5.565299987792969, -5.565299987792969, -5.565299987792969, -5.598100185394287, -5.640100002288818, -5.741000175476074, -5.8242998123168945, -4.367499828338623, -4.783400058746338, -4.898399829864502, -4.922599792480469, -4.9268999099731445, -5.133500099182129, -5.29580020904541, -5.404399871826172, -5.490799903869629, -5.517300128936768, -5.535699844360352, -5.535699844360352, -5.564000129699707, -5.564000129699707, -5.564000129699707, -5.564000129699707, -5.564000129699707, -5.564000129699707, -5.564000129699707, -5.564000129699707, -5.564000129699707, -5.564000129699707, -5.564000129699707, -5.564000129699707, -5.564000129699707, -5.564000129699707, -5.564000129699707, -5.564000129699707, -5.564000129699707, -5.564000129699707, -5.564000129699707, -5.564000129699707, -5.564000129699707, -5.564000129699707, -5.564000129699707, -5.564000129699707, -4.704899787902832, -4.823999881744385, -4.873899936676025, -4.928100109100342, -4.980000019073486, -5.042099952697754, -5.043600082397461, -5.043600082397461, -5.043600082397461, -5.058599948883057, -5.061800003051758, -5.144499778747559, -5.144599914550781, -5.159900188446045, -5.165500164031982, -5.240499973297119, -5.2916998863220215, -5.292300224304199, -5.37529993057251, -5.384300231933594, -5.400599956512451, -5.400599956512451, -5.400599956512451, -5.400599956512451, -5.400599956512451, -5.400599956512451, -5.400599956512451, -5.424900054931641, -5.462299823760986, -5.55620002746582, -5.55620002746582, -5.55620002746582, -5.55620002746582, -5.55620002746582, -5.55620002746582, -4.146599769592285, -4.951099872589111, -4.978000164031982, -5.272600173950195, -5.375100135803223, -5.419000148773193, -5.503699779510498, -5.526700019836426, -5.526700019836426, -5.526700019836426, -5.526700019836426, -5.526700019836426, -5.526700019836426, -5.526700019836426, -5.664999961853027, -5.674900054931641, -5.678999900817871, -5.683000087738037, -5.683000087738037, -5.727099895477295, -5.808800220489502, -5.826399803161621, -5.826399803161621, -5.826399803161621, -5.826399803161621, -5.826399803161621, -5.826399803161621, -5.826399803161621, -5.826399803161621, -5.826399803161621, -5.826399803161621, -5.826399803161621, -5.826399803161621, -4.192500114440918, -4.678800106048584, -4.744100093841553, -4.82289981842041, -4.972899913787842, -4.981400012969971, -5.170499801635742, -5.227700233459473, -5.268799781799316, -5.437900066375732, -5.449999809265137, -5.449999809265137, -5.449999809265137, -5.449999809265137, -5.449999809265137, -5.449999809265137, -5.449999809265137, -5.449999809265137, -5.449999809265137, -5.449999809265137, -5.449999809265137, -5.449999809265137, -5.449999809265137, -5.449999809265137, -5.449999809265137, -5.449999809265137, -5.613399982452393, -5.745699882507324, -5.745699882507324, -5.801700115203857]}, \"token.table\": {\"Topic\": [9, 18, 11, 19, 6, 5, 11, 13, 14, 5, 20, 17, 9, 17, 17, 14, 7, 4, 13, 15, 2, 19, 7, 13, 7, 16, 13, 7, 2, 11, 15, 18, 4, 1, 11, 10, 1, 19, 19, 6, 15, 8, 11, 15, 6, 2, 15, 13, 3, 13, 13, 10, 17, 18, 14, 13, 11, 9, 18, 2, 11, 2, 13, 18, 9, 16, 15, 8, 4, 11, 20, 12, 14, 17, 18, 18, 10, 3, 6, 6, 1, 3, 20, 18, 14, 12, 6, 2, 7, 20, 17, 10, 13, 5, 12, 11, 2, 1, 4, 7, 7, 10, 11, 11, 12, 19, 16, 7, 1, 18, 20, 19, 19, 17, 16, 11, 9, 11, 2, 10, 5, 1, 7, 7, 2, 6, 10, 4, 7, 6, 7, 1, 15, 14, 16, 10, 10, 9, 15, 19, 20, 3, 6, 20, 9, 11, 3, 20, 5, 6, 4, 14, 11, 3, 5, 15, 17, 12, 10, 4, 17, 15, 9, 3, 10, 9, 13, 8, 6, 19, 7, 10, 18, 14, 14, 10, 15, 3, 1, 19, 7, 4, 13, 15, 3, 13, 17, 16, 18, 5, 11, 5, 14, 17, 19, 14, 17, 8, 1, 3, 17, 14, 3, 18, 13, 8, 13, 12, 10, 13, 20, 1, 4, 19, 6, 3, 18, 9, 9, 2, 10, 4, 5, 1, 17, 12, 15, 1, 15, 15, 16, 17, 17, 6, 18, 16, 14, 14, 9, 18, 14, 15, 1, 17, 14, 15, 6, 7, 14, 10, 12, 10, 10, 2, 16, 2, 20, 3, 7, 12, 17, 7, 10, 5, 11, 16, 18, 17, 17, 18, 9, 4, 11, 10, 6, 3, 17, 8, 18, 1, 15, 13, 16, 11, 2, 4, 6, 5, 5, 14, 6, 10, 11, 1, 15, 20, 17, 6, 13, 6, 15, 10, 16, 14, 16, 2, 6, 11, 16, 1, 19, 16, 13, 8, 13, 16, 18, 17, 18, 18, 13, 16, 14, 6, 2, 7, 12, 7, 20, 18, 7, 16, 16, 15, 5, 9, 3, 16, 15, 17, 2, 13, 7, 7, 5, 5, 7, 2, 2, 14, 15, 7, 6, 12, 2, 13, 16, 13, 8, 14, 15, 11, 10, 11, 15, 10, 16, 11, 8, 13, 17, 11, 14, 5, 3, 2, 15, 3, 5, 1, 14, 17, 8, 5, 3, 19, 15, 6, 9, 11, 16, 18, 9, 5, 9, 1, 4, 16, 10, 2, 2, 13, 17, 15, 5, 11, 6, 10, 9, 9, 7, 4, 5, 18, 12, 1, 4, 18, 15, 7, 17, 14, 16, 2, 3, 12, 14, 19, 6, 10, 18, 17, 20, 18, 20, 5, 7, 14, 18, 14, 3, 13, 7, 12, 7, 7, 8, 18, 14, 17, 13, 10, 20, 15, 2, 11, 2, 11, 14, 6, 1, 2, 1, 7, 13, 10, 18, 15, 11, 13, 18, 9, 3, 15, 10, 12, 12, 17, 8, 5, 10, 20, 7, 5, 20, 10, 18, 13, 9, 18, 8, 19, 18, 2, 9, 2, 2, 9, 19, 16, 3, 1, 19, 12, 16, 13, 12, 12, 12, 12, 12, 12, 12, 12, 12, 12, 12, 8, 8, 8, 8, 8, 8, 3, 8, 8, 3, 8, 8, 8, 3, 8, 8, 8, 8, 9, 6, 19, 4, 5, 4, 19, 4, 4, 5, 4, 2, 4, 19, 13, 5, 13, 6, 4, 9, 8, 5, 19, 4, 4, 6, 12, 9, 19, 9, 4, 19, 4, 4, 4, 19, 19, 19, 4, 13, 4, 19, 19, 4, 6, 4, 9, 4, 4, 13, 4, 19, 19, 4, 5, 4, 19, 13, 4, 16, 1, 3, 3, 3, 3, 3, 3, 3, 1, 1, 1, 5, 8, 20, 3, 3, 17, 1, 3, 20, 20, 20, 8, 20, 17, 8, 1, 20, 20, 16, 3, 12, 20, 13, 1, 20, 18, 15, 20, 8, 1, 20, 10, 8, 19, 20, 8, 17, 20, 17, 15, 17, 9, 9, 8, 8, 8, 8, 16, 8, 8, 8, 11, 8, 11, 8], \"Freq\": [0.9984036087989807, 0.9057285785675049, 0.8069129586219788, 0.8183385729789734, 0.8680920004844666, 0.9787097573280334, 0.7993625998497009, 0.7638540267944336, 0.9417084455490112, 0.8884313702583313, 0.9603044986724854, 0.925277590751648, 0.8813554048538208, 0.9640780091285706, 0.9640780091285706, 0.927171528339386, 0.9448177814483643, 0.8613250255584717, 0.8361777663230896, 0.8546890020370483, 0.8751705884933472, 0.8183385729789734, 0.9607846736907959, 0.7638540267944336, 0.9626504778862, 0.9782831072807312, 0.901923656463623, 0.836521327495575, 0.9646080732345581, 0.9062084555625916, 0.885857880115509, 0.9056839942932129, 0.9172229766845703, 0.8555687069892883, 0.9262901544570923, 0.8535872101783752, 0.9116626381874084, 0.8183385729789734, 0.8183385729789734, 0.8000615239143372, 0.9442629814147949, 0.8010456562042236, 0.9491151571273804, 0.6536204218864441, 0.8000615239143372, 0.8751705884933472, 0.9817548394203186, 0.7638540267944336, 0.8175333142280579, 0.7638540267944336, 0.8508767485618591, 0.7736902236938477, 0.9418766498565674, 0.8282274007797241, 0.9271674156188965, 0.7638540267944336, 0.8829821348190308, 0.9590447545051575, 0.8460544347763062, 0.9417060613632202, 0.9029687643051147, 0.8751705884933472, 0.7638540267944336, 0.8460544347763062, 0.8381320238113403, 0.9528653025627136, 0.9763879179954529, 0.896621823310852, 0.9679520726203918, 0.9054773449897766, 0.7304508686065674, 0.8750706911087036, 0.8366935849189758, 0.8443766236305237, 0.8345345854759216, 0.8423315286636353, 0.9072168469429016, 0.8175334334373474, 0.8000615239143372, 0.8000615239143372, 0.8898204565048218, 0.10949700325727463, 0.9331313371658325, 0.979309618473053, 0.927171528339386, 0.7849896550178528, 0.9024152755737305, 0.8537365794181824, 0.9607860445976257, 0.9603020548820496, 0.9640780091285706, 0.9469529390335083, 0.6671918034553528, 0.8080680966377258, 0.9110113382339478, 0.9602295756340027, 0.8621025085449219, 0.8380444049835205, 0.9417397379875183, 0.9595448970794678, 0.917966902256012, 0.9072168469429016, 0.9688653349876404, 0.9688658714294434, 0.7960495352745056, 0.8183385729789734, 0.8692613244056702, 0.9757515788078308, 0.9065293669700623, 0.9627593159675598, 0.7594581842422485, 0.7821592688560486, 0.8183385729789734, 0.927756667137146, 0.9614524841308594, 0.9688658714294434, 0.9258056282997131, 0.8025023341178894, 0.9715752005577087, 0.8692067861557007, 0.9812329411506653, 0.8380444645881653, 0.9504386782646179, 0.8366411328315735, 0.8719456791877747, 0.8000609874725342, 0.8643781542778015, 0.8346190452575684, 0.9607860445976257, 0.9086142182350159, 0.8974521160125732, 0.8787286877632141, 0.9459922313690186, 0.9277858138084412, 0.7385315895080566, 0.8209365010261536, 0.834437370300293, 0.9772710800170898, 0.8969789147377014, 0.8183385729789734, 0.7975203990936279, 0.7910392880439758, 0.9214478731155396, 0.9833618998527527, 0.8191812634468079, 0.7505816221237183, 0.8175334334373474, 0.9603020548820496, 0.918131411075592, 0.8000615239143372, 0.9583694934844971, 0.927171528339386, 0.9688658714294434, 0.7545449137687683, 0.9845665097236633, 0.8852980136871338, 0.9640780091285706, 0.7849237322807312, 0.9072168469429016, 0.9273638725280762, 0.9053804874420166, 0.8282005190849304, 0.8381320238113403, 0.8504406809806824, 0.9719526171684265, 0.8381295800209045, 0.8172705769538879, 0.8715367913246155, 0.8000615239143372, 0.8183385729789734, 0.9607846736907959, 0.9861244559288025, 0.7717652916908264, 0.9465523958206177, 0.9271674156188965, 0.9359323978424072, 0.9311136603355408, 0.8175332546234131, 0.8380444645881653, 0.9492543339729309, 0.940654456615448, 0.9290034174919128, 0.7962741851806641, 0.6536188721656799, 0.7545449137687683, 0.8361777663230896, 0.9640780091285706, 0.9614501595497131, 0.9842942953109741, 0.8534258604049683, 0.8905525803565979, 0.8407811522483826, 0.8741095066070557, 0.9640780091285706, 0.8530771136283875, 0.9510839581489563, 0.9640780091285706, 0.8551866412162781, 0.8926855325698853, 0.10727022588253021, 0.9640780091285706, 0.9271674156188965, 0.8175334334373474, 0.9179524779319763, 0.7638540267944336, 0.8715367913246155, 0.7638540267944336, 0.7791808247566223, 0.9072168469429016, 0.7449804544448853, 0.9603044986724854, 0.8380444645881653, 0.9481858611106873, 0.7292202711105347, 0.8000597953796387, 0.8175334334373474, 0.8399583697319031, 0.8381282687187195, 0.8381295800209045, 0.8493120670318604, 0.8728591203689575, 0.8352624773979187, 0.9706475734710693, 0.8380444645881653, 0.8921711444854736, 0.9008357524871826, 0.6536204218864441, 0.8380444645881653, 0.6536182761192322, 0.6536182761192322, 0.7884926199913025, 0.9640780091285706, 0.9640780091285706, 0.8000597953796387, 0.8460544347763062, 0.9614474177360535, 0.9100041389465332, 0.7618691325187683, 0.8444738388061523, 0.9224141836166382, 0.9271674156188965, 0.8858578205108643, 0.979766309261322, 0.9288581609725952, 0.827316164970398, 0.9217066764831543, 0.8000597953796387, 0.8193193674087524, 0.8446965217590332, 0.8376263976097107, 0.7546621561050415, 0.8500717878341675, 0.9818876385688782, 0.953416109085083, 0.658411979675293, 0.8795890212059021, 0.9508203864097595, 0.909583568572998, 0.9607846736907959, 0.7791807651519775, 0.9640780091285706, 0.9607860445976257, 0.9072141647338867, 0.907264769077301, 0.9459038972854614, 0.9210802912712097, 0.9168772101402283, 0.9640780091285706, 0.9640780091285706, 0.9627593159675598, 0.9554471373558044, 0.9023985862731934, 0.9112074971199036, 0.8830933570861816, 0.918675422668457, 0.8972246050834656, 0.9640780091285706, 0.8531495928764343, 0.8909106850624084, 0.8380444049835205, 0.9234698414802551, 0.901923656463623, 0.9614501595497131, 0.9429050087928772, 0.8751705884933472, 0.9756219387054443, 0.8000615239143372, 0.9889452457427979, 0.8782277703285217, 0.9878591895103455, 0.7877708673477173, 0.8392617106437683, 0.7617992758750916, 0.8380444645881653, 0.6536204218864441, 0.9403969049453735, 0.8892179131507874, 0.8000615239143372, 0.7638540267944336, 0.9843685030937195, 0.992333173751831, 0.9072180390357971, 0.868324339389801, 0.9736010432243347, 0.9614524841308594, 0.974737286567688, 0.8000597953796387, 0.9224705100059509, 0.9186098575592041, 0.8380444645881653, 0.8183385729789734, 0.9614501595497131, 0.7638540267944336, 0.8715367913246155, 0.7638540267944336, 0.6812252998352051, 0.8278118371963501, 0.9640780091285706, 0.8460543751716614, 0.8288807272911072, 0.901923656463623, 0.8846333026885986, 0.9271674156188965, 0.7635328769683838, 0.9907814264297485, 0.9607846736907959, 0.8921834826469421, 0.9607846736907959, 0.8528681993484497, 0.8514521718025208, 0.9607860445976257, 0.9797829985618591, 0.9793578386306763, 0.861068069934845, 0.7680568695068359, 0.7588373422622681, 0.8175334334373474, 0.9342172145843506, 0.8608583211898804, 0.9640780091285706, 0.9299222826957703, 0.9444780945777893, 0.830392599105835, 0.8884636759757996, 0.8753210306167603, 0.7727541327476501, 0.8442721366882324, 0.8751705884933472, 0.8751705884933472, 0.9271674156188965, 0.9142782092094421, 0.9635372161865234, 0.9300131797790527, 0.9806185364723206, 0.8973188996315002, 0.9728187322616577, 0.9193251729011536, 0.8605659008026123, 0.8715367913246155, 0.8366936445236206, 0.9344566464424133, 0.9358296394348145, 0.902398407459259, 0.9139215350151062, 0.9649515151977539, 0.9072168469429016, 0.8490341901779175, 0.9688658714294434, 0.8715367913246155, 0.901923656463623, 0.9640780091285706, 0.9688653349876404, 0.8477718234062195, 0.743912935256958, 0.8175332546234131, 0.9503252506256104, 0.8217761516571045, 0.8175334334373474, 0.7868158221244812, 0.8380444645881653, 0.9555338621139526, 0.9418765902519226, 0.8715367913246155, 0.8509573936462402, 0.9415730237960815, 0.885014533996582, 0.8528335094451904, 0.9382321834564209, 0.9105811715126038, 0.9104782938957214, 0.9614474177360535, 0.9350048899650574, 0.9022288918495178, 0.9354439973831177, 0.8381295800209045, 0.8621304631233215, 0.8625454902648926, 0.8846333026885986, 0.9072141647338867, 0.9514550566673279, 0.8715992569923401, 0.7638540267944336, 0.9640780091285706, 0.7720770835876465, 0.9480571746826172, 0.9688658714294434, 0.9460073113441467, 0.9349551796913147, 0.8996033072471619, 0.8813554048538208, 0.7873814105987549, 0.9000096321105957, 0.8844571113586426, 0.8634803891181946, 0.9419817924499512, 0.829963207244873, 0.9230998158454895, 0.7713824510574341, 0.6536204218864441, 0.7547652721405029, 0.9640780091285706, 0.685635507106781, 0.9614501595497131, 0.9139764904975891, 0.7545449137687683, 0.7194637060165405, 0.8228697776794434, 0.7211400866508484, 0.943292498588562, 0.9072153568267822, 0.8460544347763062, 0.9792529940605164, 0.869380533695221, 0.8460544347763062, 0.8257641792297363, 0.957334578037262, 0.9607846736907959, 0.8683338165283203, 0.8460544347763062, 0.9433078169822693, 0.9258289933204651, 0.7962742447853088, 0.8336612582206726, 0.6798644065856934, 0.8352012038230896, 0.9260063767433167, 0.8715367913246155, 0.9627593159675598, 0.927171528339386, 0.9640780091285706, 0.9075456261634827, 0.8046822547912598, 0.9603044986724854, 0.9621140956878662, 0.8952302932739258, 0.871464729309082, 0.9186257123947144, 0.9688653349876404, 0.927171528339386, 0.7988784313201904, 0.9512353539466858, 0.8902080655097961, 0.8684173226356506, 0.9585407972335815, 0.7638540267944336, 0.8830934762954712, 0.8288807272911072, 0.973158061504364, 0.9071055054664612, 0.7638540267944336, 0.9627593159675598, 0.8381295800209045, 0.9293773174285889, 0.9376826286315918, 0.8982047438621521, 0.6668843626976013, 0.737371027469635, 0.7700070142745972, 0.8715367913246155, 0.8000773787498474, 0.9575324654579163, 0.845826268196106, 0.8387379050254822, 0.8478295803070068, 0.8592680096626282, 0.7596225142478943, 0.9627593159675598, 0.6723294854164124, 0.8381282687187195, 0.9627593159675598, 0.8715367913246155, 0.8183385729789734, 0.8906315565109253, 0.8751705884933472, 0.8381304144859314, 0.9603167772293091, 0.8751705884933472, 0.8381304144859314, 0.8183385729789734, 0.9458276629447937, 0.8175333142280579, 0.8380444645881653, 0.8183385729789734, 0.9613757729530334, 0.9614474177360535, 0.880850076675415, 0.9613757729530334, 0.9613757729530334, 0.9613757729530334, 0.9613757729530334, 0.9655333757400513, 0.9613757729530334, 0.9613757729530334, 0.9613757729530334, 0.9613757729530334, 0.9613757729530334, 0.9613757729530334, 0.8715367913246155, 0.8715367913246155, 0.8715367913246155, 0.8715367913246155, 0.8715367913246155, 0.8715367913246155, 0.8175333142280579, 0.8715367913246155, 0.8715367913246155, 0.8175333142280579, 0.8715367913246155, 0.8715367913246155, 0.8635849356651306, 0.8175333142280579, 0.8715367913246155, 0.8715367913246155, 0.8715367913246155, 0.8715367913246155, 0.8381304144859314, 0.8000609874725342, 0.7315532565116882, 0.9409627318382263, 0.9359710216522217, 0.9409627318382263, 0.967370867729187, 0.8224326968193054, 0.9768218398094177, 0.9853845834732056, 0.9409627318382263, 0.9709663391113281, 0.9315534234046936, 0.967370867729187, 0.7113559246063232, 0.7721478939056396, 0.8519715070724487, 0.987555742263794, 0.9014157056808472, 0.9226592183113098, 0.9851493239402771, 0.7824766635894775, 0.967370867729187, 0.9206295609474182, 0.9409627318382263, 0.8000609874725342, 0.8214414119720459, 0.8381304144859314, 0.967370867729187, 0.8502439260482788, 0.9409627318382263, 0.967370867729187, 0.9409627318382263, 0.9409627318382263, 0.9409627318382263, 0.967370867729187, 0.9386743307113647, 0.7268580198287964, 0.8027138710021973, 0.89699786901474, 0.9409627318382263, 0.967370867729187, 0.9849305748939514, 0.9409627318382263, 0.8000609874725342, 0.9409627318382263, 0.8381304144859314, 0.975918173789978, 0.9409627318382263, 0.880850076675415, 0.9409627318382263, 0.8069941401481628, 0.7575236558914185, 0.9038283228874207, 0.8746681213378906, 0.8514396548271179, 0.8073166608810425, 0.8308319449424744, 0.7831991314888, 0.7713010311126709, 0.8684173226356506, 0.8175332546234131, 0.8175332546234131, 0.8175332546234131, 0.8175332546234131, 0.8175332546234131, 0.8175334334373474, 0.8175334334373474, 0.8380444645881653, 0.8380444645881653, 0.8380444645881653, 0.9053949117660522, 0.8715367913246155, 0.9603044986724854, 0.8175334334373474, 0.8175334334373474, 0.9076344966888428, 0.8380444049835205, 0.8175334334373474, 0.9603044986724854, 0.9603046178817749, 0.8102484345436096, 0.8715367913246155, 0.9603046178817749, 0.9640780091285706, 0.8715367913246155, 0.8380444049835205, 0.8102484345436096, 0.9603044986724854, 0.9614524841308594, 0.8175334334373474, 0.9210028052330017, 0.9603044986724854, 0.7638540267944336, 0.8380444049835205, 0.9603046178817749, 0.8288807272911072, 0.6536182761192322, 0.9603046178817749, 0.8715367913246155, 0.8380444645881653, 0.9603044986724854, 0.9072168469429016, 0.8715367913246155, 0.7315533757209778, 0.9603044986724854, 0.8715367913246155, 0.9640780091285706, 0.9603044986724854, 0.9640780091285706, 0.6536182761192322, 0.9640780091285706, 0.8381304144859314, 0.9035137295722961, 0.8715367913246155, 0.8715367913246155, 0.8715367913246155, 0.8715367913246155, 0.9614524841308594, 0.8715367913246155, 0.8715367913246155, 0.8715367913246155, 0.9688653349876404, 0.8715367913246155, 0.871464729309082, 0.8715367913246155], \"Term\": [\"_\", \"action\", \"actually\", \"ac\\u0131klamas\\u0131\", \"ada\", \"add\", \"african\", \"agitcisi\", \"ai\", \"airport\", \"akikan\", \"ako\", \"aldub\", \"aldubftnqt\", \"aldubnation\", \"alegria\", \"algo\", \"alguien\", \"alice\", \"allah\", \"ama\", \"amacl\\u0131\", \"amaguen\", \"amore\", \"amp\", \"ang\", \"antonio\", \"aos\", \"aqui\", \"area\", \"asi\", \"ass\", \"away\", \"awkward\", \"baby\", \"back\", \"bad\", \"baslat\\u0131lan\", \"bas\\u0131n\", \"batia\", \"be\", \"belajar\", \"believe\", \"belladonna_xyz\", \"bicicleta\", \"bighitofficial\", \"birthday\", \"bisey\", \"bit_bum\", \"bizim\", \"black\", \"body\", \"boo\", \"book\", \"borg\", \"boylelerine\", \"break\", \"bridge\", \"bristol\", \"bts\", \"bts_twt\", \"btsturn\", \"burada\", \"burlington\", \"bury\", \"buti\", \"ca\", \"cafe\", \"call\", \"campaign\", \"car\", \"caractere\", \"cat\", \"change\", \"character\", \"check\", \"cherrry_kouta\", \"cho\", \"chutar\", \"cinco\", \"co\", \"co\", \"com\", \"come\", \"comienzo\", \"community\", \"como\", \"con\", \"conceito\", \"coracao\", \"coramarcelo\", \"could\", \"cr\", \"crazy\", \"cute\", \"d\", \"dan\", \"daxppbx\", \"day\", \"deixa\", \"del\", \"delete\", \"delta_trap\", \"delusion\", \"depuis\", \"destek\", \"deus\", \"dia\", \"die\", \"diplomatic\", \"do\", \"donghae\", \"donumunde\", \"door\", \"dotom_jicheol\", \"dougcoltart\", \"dq\", \"drama\", \"du\", \"due\", \"eat\", \"efj\", \"el\", \"ela\", \"ello\", \"end_era\", \"enough\", \"ericvideos\", \"escola\", \"escorpiao\", \"esse\", \"esta\", \"esto\", \"et\", \"ettiler\", \"eu\", \"even\", \"ever\", \"experience\", \"eylemlerinin\", \"face\", \"facil\", \"family\", \"fan\", \"fancam\", \"fantasy\", \"fateapocryphatv\", \"faz\", \"fazer\", \"fazia\", \"feeling\", \"felizjuef\", \"fellow\", \"fffg\", \"ficar\", \"find\", \"firemoonsun\", \"flore\", \"flowsvitality\", \"fly\", \"follow\", \"force\", \"forever\", \"friend\", \"front\", \"fwb\", \"game\", \"gandhi_boy\", \"gargalhar\", \"gen\", \"germa\", \"get\", \"girl\", \"give\", \"gmmeztxlm\", \"go\", \"good\", \"gotlp\", \"gq\", \"graca\", \"grande\", \"great\", \"grow\", \"grup\", \"guidetae\", \"gyouza\", \"halseylost\", \"hanabishiiii\", \"happy\", \"heart\", \"help\", \"hero\", \"high\", \"hokagehoney\", \"hold\", \"hoy\", \"hrt_a\", \"http\", \"https\", \"https\", \"iam_mark\", \"ibeyise\", \"igxgwjwtg\", \"imagine\", \"immenso\", \"inamb\", \"infinita\", \"ini\", \"instant\", \"invest\", \"in\\u95a2\\u6771\", \"isg\", \"isso\", \"isteyen\", \"itswiselearn\", \"ixgiheau\", \"jbj\", \"jenasis\", \"jihoon\", \"jimmy\", \"job\", \"joe\", \"jogador\", \"johnsonldc\", \"joke\", \"julio\", \"jusq\", \"jwpmhlciay\", \"jxq\", \"kakipii\", \"kayo\", \"kccabbeyo\", \"kccepoet\", \"kdjco\", \"kevinegu\", \"khea\", \"kick\", \"kiss\", \"know\", \"kupu\", \"kvhpe\", \"kw\", \"la\", \"lang\", \"last\", \"late\", \"lczf\", \"lee\", \"li\", \"life\", \"like\", \"little\", \"live\", \"lo\", \"lol\", \"los\", \"lot\", \"love\", \"lsvlncsxjo\", \"luz\", \"lynieg\", \"lywcarol\", \"mad\", \"mai\", \"make\", \"male\", \"man\", \"mangahoy\", \"marinak\", \"match\", \"may\", \"maybe\", \"mean\", \"menino\", \"mersal\", \"mighty\", \"milascabellow\", \"mini\", \"minute\", \"miwastaff\", \"ml\", \"mmmm\", \"mmt\", \"mom\", \"momentumofpsy\", \"morning\", \"moto\", \"much\", \"mugabe\", \"muito\", \"mulher\", \"musica\", \"must\", \"mzre\", \"nakakaumay\", \"nao\", \"need\", \"nela\", \"nerede\", \"never\", \"new\", \"newkindofclown\", \"nga\", \"night\", \"nlsaikou\", \"nos\", \"note\", \"nothing\", \"nowplay\", \"nthw\", \"nuriyevesemih\", \"nwqqha\", \"ogul_ilker\", \"okuivib\", \"olunun\", \"omg\", \"open\", \"oquerestoudenos\", \"osaka\", \"osh\", \"oso_guarico\", \"owgm\", \"pacheco\", \"pain\", \"para\", \"pare\", \"pas\", \"passat\", \"paz\", \"people\", \"perdeu\", \"perform\", \"pero\", \"person\", \"pessoas\", \"play\", \"plobjai\", \"pm\", \"politic\", \"poohcabello\", \"por\", \"pour\", \"power\", \"pra\", \"president\", \"presos\", \"programa\", \"proudofthem\", \"psy_oppa\", \"puntica\", \"qu\", \"que\", \"queria\", \"qui\", \"quien\", \"quiero\", \"radio\", \"raulgomez\", \"rclad\", \"react\", \"read\", \"real\", \"realdonaldtrump\", \"realize\", \"really\", \"request\", \"retweet\", \"revolutionary\", \"rexknightrider\", \"rico\", \"ricsl\", \"rikfkmx\", \"robert\", \"row\", \"rqk\", \"rt\", \"runs_run\", \"rxnnku\", \"sabe\", \"saboten_ry\", \"sakarya\", \"sana\", \"sarahbabygirl\", \"say\", \"school\", \"sea\", \"see\", \"self\", \"seria\", \"shit\", \"shmd\", \"shop\", \"show\", \"si\", \"sihun\", \"sin\", \"single\", \"skiha\", \"slightly\", \"solo\", \"son\", \"soyle\", \"squadloveonly\", \"star\", \"state\", \"stateman\", \"status\", \"still\", \"stop\", \"stweeksary\", \"sua\", \"sun\", \"super\", \"support\", \"sus\", \"sx\", \"take\", \"talk\", \"tama\", \"tao\", \"tassia\", \"tax\", \"taxi\", \"tbt\", \"teamaimazing\", \"teen\", \"tell\", \"tem\", \"tempo\", \"terrific\", \"test\", \"thank\", \"think\", \"third\", \"thursday\", \"time\", \"tipica\", \"tiro\", \"tmabuck\", \"today\", \"todo\", \"tokyo\", \"torcida\", \"totally\", \"trabalho\", \"train\", \"tribeofsweet\", \"trip\", \"tristezas\", \"tropaldub\", \"true\", \"trump\", \"tuesday\", \"tune\", \"tweet\", \"twice\", \"twitter\", \"tzuyu\", \"ugdwghqqtd\", \"uma\", \"un\", \"una\", \"uppalapatisiva\", \"vai\", \"varsa\", \"vejo\", \"vfzqsh\", \"vice\", \"video\", \"vorrei\", \"walshfreedom\", \"wannabaeone\", \"wannaone\", \"want\", \"watch\", \"week\", \"welcome\", \"well\", \"wendyrv\", \"white\", \"win\", \"wind\", \"wing\", \"wish\", \"work\", \"would\", \"wrestling\", \"wrong\", \"wvbr\", \"wwe\", \"yanzhaoghoul\", \"yapmak\", \"year\", \"ynpihxrtpr\", \"youch\", \"youtube\", \"yrslater\", \"yu_ki_ne\", \"yuksel\", \"yung\", \"yyouptdnua\", \"z\", \"zeynabelle\", \"zhgfovmkpr\", \"ztv\", \"\\u03b1\\u03bb\\u03bb\\u03bf\\u03b9\", \"\\u03b3\\u03c5\\u03bd\\u03b1\\u03b9\\u03ba\\u03c9\\u03bd\", \"\\u03b5\\u03bd\\u03b4\\u03c5\\u03bd\\u03b1\\u03bc\\u03c9\\u03c3\\u03b7\\u03c2\", \"\\u03b5\\u03bd\\u03c4\\u03b1\\u03be\\u03b7\\u03c2\", \"\\u03b5\\u03c1\\u03b3\\u03bf\\u03c5\", \"\\u03ba\\u03b1\\u03b9\", \"\\u03bc\\u03b5\\u03c4\\u03b1\\u03bd\\u03b1\\u03c3\\u03c4\\u03c9\\u03bd\", \"\\u03c0\\u03b1\\u03c1\\u03bf\\u03c5\\u03c3\\u03b9\\u03b1\\u03c3\\u03b7\", \"\\u03c0\\u03c1\\u03b1\\u03ba\\u03c4\\u03b9\\u03ba\\u03b5\\u03c2\", \"\\u03c0\\u03c1\\u03bf\\u03c3\\u03c6\\u03c5\\u03b3\\u03c9\\u03bd\", \"\\u03c3\\u03c4\\u03b7\\u03bd\", \"\\u03c4\\u03bf\\u03c5\", \"\\u0432\\u043e\\u0437\\u0432\\u0440\\u0430\\u0449\\u0435\\u043d\\u0438\\u044f\", \"\\u0432\\u043e\\u0438\\u043d\", \"\\u0435\\u0449\\u0435\", \"\\u0436\\u0434\\u0435\\u0442\", \"\\u0437\\u043e\\u0431\\u043d\\u0438\\u043d\\u0430\", \"\\u043a\\u043e\\u0442\\u043e\\u0440\\u044b\\u0438\", \"\\u043c\\u0435\\u043d\\u044f\", \"\\u043c\\u0435\\u0441\\u044f\\u0446\\u0435\\u0432\", \"\\u043c\\u043e\\u043c\\u0435\\u043d\\u0442\\u0430\", \"\\u043d\\u0430\\u043a\\u043e\\u043d\\u0435\\u0446\", \"\\u043f\\u043e\\u0434\\u0440\\u043e\\u0431\\u043d\\u0435\\u0435\", \"\\u043f\\u0440\\u043e\\u0448\\u043b\\u043e\", \"\\u043f\\u044f\\u0442\\u044c\", \"\\u0440\\u0430\\u0441\\u043a\\u0440\\u044b\\u043b\\u0438\", \"\\u0440\\u043e\\u0441\\u0441\\u0438\\u044f\", \"\\u0441\\u0438\\u043b\\u044c\\u043d\\u0435\\u0435\", \"\\u0441\\u0442\\u0430\\u043d\\u0435\\u0442\", \"\\u0442\\u0440\\u0430\\u0432\\u043c\\u044b\", \"\\u0627\\u062c\\u0645\\u0644\", \"\\u0627\\u062f\\u0631\\u064a\", \"\\u0627\\u0632\\u0627\\u0643\\u0631\", \"\\u0627\\u0639\\u062c\\u0627\\u0632\", \"\\u0627\\u0644\\u0627\", \"\\u0627\\u0644\\u062d\\u0627\\u0642\\u0629\", \"\\u0627\\u0644\\u062d\\u0634\\u0631\", \"\\u0627\\u0644\\u0631\\u064a\\u0627\\u0636\", \"\\u0627\\u0644\\u0637\\u0641\", \"\\u0627\\u0644\\u0638\\u0627\\u0644\\u0645\\u064a\\u0646\", \"\\u0627\\u0644\\u0642\\u0648\\u0645\", \"\\u0627\\u0644\\u0644\\u0647\", \"\\u0627\\u0644\\u0644\\u0647\\u0645\", \"\\u0627\\u0644\\u0646\\u0627\\u0631\", \"\\u0627\\u0644\\u0646\\u0628\\u064a\", \"\\u0627\\u0644\\u0647\", \"\\u0627\\u0644\\u0648\\u0637\\u0646\", \"\\u0627\\u0644\\u0649\", \"\\u0627\\u0644\\u064a\\u0647\", \"\\u0627\\u0646\", \"\\u0627\\u0646\\u0627\", \"\\u0627\\u0646\\u062a\", \"\\u0627\\u0646\\u0647\\u0645\\u0627\", \"\\u0627\\u0646\\u064a\", \"\\u0627\\u064a\\u0627\\u0645\", \"\\u0628\\u0633\", \"\\u0628\\u0646\", \"\\u0628\\u0648\\u062c\\u0648\\u062f\\u0643\", \"\\u062c\\u0632\\u0627\\u0621\", \"\\u062d\\u062a\\u0649\", \"\\u062d\\u0633\\u0648\\u0645\\u0627\", \"\\u062e\\u0627\\u0644\\u062f\\u064a\\u0646\", \"\\u062e\\u0627\\u0648\\u064a\\u0629\", \"\\u0633\\u062e\\u0631\\u0647\\u0627\", \"\\u0635\\u0631\\u0639\\u0649\", \"\\u0639\\u0627\\u0642\\u0628\\u062a\\u0647\\u0645\\u0627\", \"\\u0639\\u0644\\u0649\", \"\\u0639\\u0644\\u064a\\u0647\", \"\\u0639\\u0644\\u064a\\u0647\\u0645\", \"\\u0639\\u0646\", \"\\u0641\\u062a\\u0631\\u0649\", \"\\u0641\\u0643\\u0627\\u0646\", \"\\u0641\\u064a\\u0647\\u0627\", \"\\u0643\\u0627\\u0646\\u0647\\u0645\", \"\\u0643\\u062b\\u064a\\u0631\", \"\\u0644\\u064a\\u0627\\u0644\", \"\\u0645\\u0633\\u0627\\u0621\\u0627\\u0644\\u062e\\u0645\\u064a\\u0633\", \"\\u0645\\u063a\\u0631\\u062f_\\u0628\\u0630\\u0643\\u0631_\\u0627\\u0644\\u0644\\u0647\", \"\\u0646\\u062e\\u0644\", \"\\u0648\\u0627\\u0644\\u0631\\u062c\\u0644\", \"\\u0648\\u062b\\u0645\\u0627\\u0646\\u064a\\u0629\", \"\\u0648\\u0630\\u0644\\u0643\", \"\\u0648\\u0633\\u0644\\u0645\", \"\\u0648\\u0644\\u0627\", \"\\u0648\\u0644\\u0647\", \"\\u064a\\u0627\\u0631\\u0628\", \"\\u064a\\u062d\\u0635\\u0644\\u0648\\u0646\", \"\\u064a\\u0642\\u0627\\u062a\\u0644\", \"\\u064a\\u0648\\u0645\", \"\\u092a\\u0930\", \"\\u092c\\u0930\\u0932\", \"\\u0b13\\u0b21\\u0b36\", \"\\u0b2e\\u0b30\", \"\\u0b38\\u0b28\\u0b24\", \"\\u0b38\\u0b2e\\u0b30\\u0b2a\\u0b24\", \"\\u0b38\\u0b2f\", \"\\u0e01\\u0e22\\u0e2d\\u0e21\\u0e41\\u0e1e\", \"\\u0e15\\u0e32\\u0e21\\u0e2a\\u0e1a\\u0e32\\u0e22\\u0e40\\u0e25\\u0e22\", \"\\u0e15\\u0e33\\u0e19\\u0e32\\u0e19\", \"\\u0e2d\\u0e2b\\u0e08\\u0e30\\u0e2d\\u0e27\\u0e01\", \"\\u0e44\\u0e17\\u0e22\\u0e40\\u0e14\\u0e14\", \"\\u3042\\u308a\\u304b\\u3068\\u3046\\u3053\\u3055\\u3044\\u307e\\u3059\", \"\\u3044\\u3072\\u304d\\u3046\\u308b\\u3055\\u3044\\u306e\\u3066\\u306f\", \"\\u3044\\u307e\\u307e\\u3066\\u3042\\u308a\\u304b\\u3068\\u3046\", \"\\u304a\\u3057\\u3089\\u305b\", \"\\u304a\\u5f85\\u305f\\u305b\\u3057\\u307e\\u3057\\u305f\", \"\\u304a\\u75b2\\u308c\\u69d8\\u3066\\u3059\", \"\\u304b\\u6d88\\u6ec5\\u3057\\u3066\\u3044\\u305f\", \"\\u3053\\u3061\\u3089\\u3082\\u662f\\u975e\\u3053\\u89a7\\u304f\\u305f\\u3055\\u3044\", \"\\u3053\\u306e\", \"\\u3057\\u307e\\u3063\\u3061\\u3083\\u3046\\u304a\\u3057\\u3055\\u3093\\u304b\\u3089\\u306e\\u8131\\u51fa\", \"\\u305f\\u3057\\u304b\\u306b\", \"\\u3064\\u3044\\u3055\\u3063\\u304d\", \"\\u3068\\u3046\\u3068\\u3046\", \"\\u3068\\u3066\\u3082\\u7d20\\u6575\\u3066\\u697d\\u3057\\u304b\\u3063\\u305f\\u3066\\u3059\", \"\\u306a\\u3063\\u305f\", \"\\u307e\\u3063\\u3066\\u3066\\u306d\", \"\\u307e\\u3075\\u304f\\u3093\\u4f53\\u8abf\\u5d29\\u3057\\u3084\\u3059\\u3044\\u304b\\u3089\", \"\\u3082\\u3063\\u3068\\u3044\\u3044\\u30e2\\u30f3\\u30b9\\u30bf\\u30fc\\u304f\\u308c\\u3084\", \"\\u3084\\u308a\\u307e\\u3057\\u3087\", \"\\u30a2\\u30db\\u30af\\u30ea\\u30d5\\u30a1\", \"\\u30a2\\u30eb\\u30b9\\u30e9\\u30fc\\u30f3\\u6226\\u8a18\", \"\\u30bf\\u30bf\\u77f3\\u3082\\u3063\\u3068\\u304f\\u308c\\u3084\", \"\\u30cf\\u30a4\\u30cf\\u30a4\\u304b\\u3066\\u304d\\u307e\\u3057\\u305f\", \"\\u30e9\\u30a4\\u30d5\\u30ea\\u30cf\\u30fc\\u30b5\\u30eb\\u304b\\u3093\\u306f\\u308a\\u307e\\u3057\\u305f\", \"\\u30ea\\u30a2\\u30eb\\u8131\\u51fa\\u30cb\\u30e5\\u30fc\\u30b3\\u30e9\\u30db\", \"\\u4f55\\u3053\\u308c\", \"\\u5341\\u4e8c\\u840c\\u6226\", \"\\u59cb\\u307e\\u308b\\u3093\\u305f\", \"\\u5bdd\\u308b\\u3068\\u304d\\u591a\\u5206\\u53e3\\u547c\\u5438\\u305f\\u304b\\u3089\", \"\\u5c4f\\u98a8\\u6301\\u3063\\u3066\\u306a\\u3044\\u3051\\u3068w\", \"\\u5e74\\u534a\\u6700\\u9ad8\\u306b\\u697d\\u3057\\u304b\\u3063\\u305f\", \"\\u5f15\\u304d\\u3053\\u3082\\u308a\\u305f\", \"\\u5fc3\\u72b9\\u8c6b\\u800c\\u72d0\\u7591\", \"\\u611b\\u77e5\", \"\\u6700\\u5f8c\\u306e\\u7dcf\\u4f53\\u3082\\u5e02\\u5185\", \"\\u6b32\\u4ece\\u7075\\u6c1b\\u4e4b\\u5409\\u5360\\u516e\", \"\\u7684\\u4e8b\\u4e1a\\u8981\\u627f\\u62c5\", \"\\u770c\\u3063\\u3066\\u512a\\u52dd\\u3066\\u304d\", \"\\u771f\\u631a\", \"\\u7d20\\u6575\\u306a\\u4f01\\u753b\\u3042\\u308a\\u304b\\u3068\\u3046\\u3053\\u3055\\u3044\\u307e\\u3059\", \"\\u7ea2\\u85af\\u84b8\", \"\\u9996\\u306b\\u304b\\u3075\\u308a\", \"\\uae40\\uc885\\ud604\", \"\\ub0ac\\ub294\\ub370\", \"\\ub7ec\\ube44\\ub4e4\", \"\\ub9cc\\ud45c\", \"\\ub9cc\\ud45c\\uc815\\ub3c4\", \"\\ubc1c\\ubc24\\ubc1c\\ubc24\", \"\\uc548\\ub098\\uc694\", \"\\uc5ed\\uc804\\ud569\\uc2dc\\ub31c\", \"\\uc804\\uc5d0\", \"\\ucbd4\\ubbf8\\ub098\", \"\\ucc28\\uc774\\ub3c4\", \"\\ud2b8\\uc640\\uc774\\uc2a4\", \"\\ud558\\ub7ec\\uac00\\uc694\"]}, \"R\": 30, \"lambda.step\": 0.01, \"plot.opts\": {\"xlab\": \"PC1\", \"ylab\": \"PC2\"}, \"topic.order\": [5, 11, 3, 9, 19, 2, 15, 1, 12, 7, 20, 16, 4, 6, 8, 14, 17, 13, 18, 10]};\n",
       "\n",
       "function LDAvis_load_lib(url, callback){\n",
       "  var s = document.createElement('script');\n",
       "  s.src = url;\n",
       "  s.async = true;\n",
       "  s.onreadystatechange = s.onload = callback;\n",
       "  s.onerror = function(){console.warn(\"failed to load library \" + url);};\n",
       "  document.getElementsByTagName(\"head\")[0].appendChild(s);\n",
       "}\n",
       "\n",
       "if(typeof(LDAvis) !== \"undefined\"){\n",
       "   // already loaded: just create the visualization\n",
       "   !function(LDAvis){\n",
       "       new LDAvis(\"#\" + \"ldavis_el1266424097410654565940456057\", ldavis_el1266424097410654565940456057_data);\n",
       "   }(LDAvis);\n",
       "}else if(typeof define === \"function\" && define.amd){\n",
       "   // require.js is available: use it to load d3/LDAvis\n",
       "   require.config({paths: {d3: \"https://cdnjs.cloudflare.com/ajax/libs/d3/3.5.5/d3.min\"}});\n",
       "   require([\"d3\"], function(d3){\n",
       "      window.d3 = d3;\n",
       "      LDAvis_load_lib(\"https://cdn.rawgit.com/bmabey/pyLDAvis/files/ldavis.v1.0.0.js\", function(){\n",
       "        new LDAvis(\"#\" + \"ldavis_el1266424097410654565940456057\", ldavis_el1266424097410654565940456057_data);\n",
       "      });\n",
       "    });\n",
       "}else{\n",
       "    // require.js not available: dynamically load d3 & LDAvis\n",
       "    LDAvis_load_lib(\"https://cdnjs.cloudflare.com/ajax/libs/d3/3.5.5/d3.min.js\", function(){\n",
       "         LDAvis_load_lib(\"https://cdn.rawgit.com/bmabey/pyLDAvis/files/ldavis.v1.0.0.js\", function(){\n",
       "                 new LDAvis(\"#\" + \"ldavis_el1266424097410654565940456057\", ldavis_el1266424097410654565940456057_data);\n",
       "            })\n",
       "         });\n",
       "}\n",
       "</script>"
      ],
      "text/plain": [
       "PreparedData(topic_coordinates=              x         y  topics  cluster       Freq\n",
       "topic                                                \n",
       "4     -0.357768 -0.002537       1        1  14.891007\n",
       "10     0.030381  0.062386       2        1   7.188020\n",
       "2     -0.212405  0.005404       3        1   5.970388\n",
       "8      0.032295  0.009006       4        1   5.125549\n",
       "18     0.031591  0.015383       5        1   4.993029\n",
       "1      0.032355  0.010300       6        1   4.795782\n",
       "14     0.030163 -0.262385       7        1   4.661534\n",
       "0      0.032276  0.014169       8        1   4.632896\n",
       "11     0.031759  0.009719       9        1   4.436546\n",
       "6      0.031162  0.016018      10        1   4.402662\n",
       "19     0.031413  0.023289      11        1   4.268495\n",
       "15     0.031523  0.018403      12        1   4.237484\n",
       "3      0.032455  0.008925      13        1   4.077193\n",
       "5      0.032029  0.010143      14        1   3.973758\n",
       "7      0.030778  0.014400      15        1   3.945404\n",
       "13     0.032115  0.010144      16        1   3.807915\n",
       "16     0.032023  0.010140      17        1   3.790500\n",
       "12     0.031383  0.011205      18        1   3.767180\n",
       "17     0.032300  0.008973      19        1   3.636161\n",
       "9      0.032170  0.006916      20        1   3.398489, topic_info=      Category        Freq             Term       Total  loglift  logprob\n",
       "term                                                                     \n",
       "5      Default  811.000000            https  811.000000  30.0000  30.0000\n",
       "4      Default  794.000000               co  794.000000  29.0000  29.0000\n",
       "496    Default   85.000000                _   85.000000  28.0000  28.0000\n",
       "1658   Default   26.000000              que   26.000000  27.0000  27.0000\n",
       "868    Default   29.000000             الله   29.000000  26.0000  26.0000\n",
       "170    Default   41.000000               la   41.000000  25.0000  25.0000\n",
       "933    Default   26.000000             para   26.000000  24.0000  24.0000\n",
       "334    Default   21.000000              get   21.000000  23.0000  23.0000\n",
       "28     Default   18.000000              amp   18.000000  22.0000  22.0000\n",
       "232    Default   14.000000               go   14.000000  21.0000  21.0000\n",
       "848    Default   14.000000              nos   14.000000  20.0000  20.0000\n",
       "371    Default   10.000000              على   10.000000  19.0000  19.0000\n",
       "1184   Default   11.000000             take   11.000000  18.0000  18.0000\n",
       "1188   Default   11.000000              day   11.000000  17.0000  17.0000\n",
       "4454   Default   13.000000               du   13.000000  16.0000  16.0000\n",
       "2404   Default   11.000000              الى   11.000000  15.0000  15.0000\n",
       "355    Default    9.000000              nao    9.000000  14.0000  14.0000\n",
       "662    Default   12.000000              por   12.000000  13.0000  13.0000\n",
       "1096   Default   12.000000               rt   12.000000  12.0000  12.0000\n",
       "2136   Default   10.000000              الا   10.000000  11.0000  11.0000\n",
       "373    Default    9.000000             good    9.000000  10.0000  10.0000\n",
       "777    Default   12.000000          youtube   12.000000   9.0000   9.0000\n",
       "186    Default   10.000000              dia   10.000000   8.0000   8.0000\n",
       "4785   Default   10.000000             call   10.000000   7.0000   7.0000\n",
       "3328   Default    9.000000             make    9.000000   6.0000   6.0000\n",
       "2051   Default   10.000000             much   10.000000   5.0000   5.0000\n",
       "96     Default    8.000000             need    8.000000   4.0000   4.0000\n",
       "182    Default    9.000000              new    9.000000   3.0000   3.0000\n",
       "1100   Default   11.000000              bts   11.000000   2.0000   2.0000\n",
       "1501   Default    9.000000              ولا    9.000000   1.0000   1.0000\n",
       "...        ...         ...              ...         ...      ...      ...\n",
       "355    Topic20    9.007807              nao    9.570427   3.3213  -4.1925\n",
       "1699   Topic20    5.538898              fan    6.101518   3.2851  -4.6788\n",
       "157    Topic20    5.188601            think    5.751222   3.2789  -4.7441\n",
       "46     Topic20    4.795682              com    5.358303   3.2709  -4.8229\n",
       "10805  Topic20    4.127436              paz    4.690056   3.2541  -4.9729\n",
       "158    Topic20    4.092505             work    4.655125   3.2530  -4.9814\n",
       "2959   Topic20    3.387564               do    3.950185   3.2282  -5.1705\n",
       "3773   Topic20    3.199039             face    3.761659   3.2198  -5.2277\n",
       "5363   Topic20    3.070378         thursday    3.632998   3.2136  -5.2688\n",
       "2962   Topic20    2.592550              lot    3.155170   3.1854  -5.4379\n",
       "11485  Topic20    2.561388            始まるんた    3.124009   3.1833  -5.4500\n",
       "11607  Topic20    2.561389        タタ石もっとくれや    3.124009   3.1833  -5.4500\n",
       "11606  Topic20    2.561389    もっといいモンスターくれや    3.124009   3.1833  -5.4500\n",
       "11605  Topic20    2.561389           akikan    3.124009   3.1833  -5.4500\n",
       "11519  Topic20    2.561389             in関東    3.124009   3.1833  -5.4500\n",
       "11484  Topic20    2.561388      リアル脱出ニューコラホ    3.124009   3.1833  -5.4500\n",
       "11522  Topic20    2.561389               この    3.124009   3.1833  -5.4500\n",
       "11483  Topic20    2.561388             とうとう    3.124009   3.1833  -5.4500\n",
       "11520  Topic20    2.561389          tuesday    3.124009   3.1833  -5.4500\n",
       "11521  Topic20    2.561389        いままてありかとう    3.124009   3.1833  -5.4500\n",
       "11482  Topic20    2.561388  しまっちゃうおしさんからの脱出    3.124009   3.1833  -5.4500\n",
       "11523  Topic20    2.561389       年半最高に楽しかった    3.124009   3.1833  -5.4500\n",
       "11524  Topic20    2.561389         最後の総体も市内    3.124009   3.1833  -5.4500\n",
       "11525  Topic20    2.561389          県って優勝てき    3.124009   3.1833  -5.4500\n",
       "11531  Topic20    2.561321          coracao    3.124017   3.1832  -5.4500\n",
       "11532  Topic20    2.561321              faz    3.124017   3.1832  -5.4500\n",
       "3770   Topic20    2.175415              car    2.738035   3.1518  -5.6134\n",
       "11382  Topic20    1.905759             たしかに    2.468379   3.1232  -5.7457\n",
       "11383  Topic20    1.905759    まふくん体調崩しやすいから    2.468379   3.1232  -5.7457\n",
       "6323   Topic20    1.801931             wind    2.364552   3.1101  -5.8017\n",
       "\n",
       "[691 rows x 6 columns], token_table=       Topic      Freq             Term\n",
       "term                                   \n",
       "496        9  0.998404                _\n",
       "1706      18  0.905729           action\n",
       "8940      11  0.806913         actually\n",
       "11292     19  0.818339       acıklaması\n",
       "216        6  0.868092              ada\n",
       "1894       5  0.978710              add\n",
       "2752      11  0.799363          african\n",
       "11232     13  0.763854         agitcisi\n",
       "2122      14  0.941708               ai\n",
       "1773       5  0.888431          airport\n",
       "11605     20  0.960304           akikan\n",
       "452       17  0.925278              ako\n",
       "497        9  0.881355            aldub\n",
       "11703     17  0.964078       aldubftnqt\n",
       "11704     17  0.964078      aldubnation\n",
       "11600     14  0.927172          alegria\n",
       "3017       7  0.944818             algo\n",
       "1144       4  0.861325          alguien\n",
       "3818      13  0.836178            alice\n",
       "7755      15  0.854689            allah\n",
       "9253       2  0.875171              ama\n",
       "11293     19  0.818339           amaclı\n",
       "11729      7  0.960785          amaguen\n",
       "11409     13  0.763854            amore\n",
       "28         7  0.962650              amp\n",
       "6579      16  0.978283              ang\n",
       "11720     13  0.901924          antonio\n",
       "7887       7  0.836521              aos\n",
       "4753       2  0.964608             aqui\n",
       "7921      11  0.906208             area\n",
       "...      ...       ...              ...\n",
       "8660      18  0.828881              何これ\n",
       "11463     15  0.653618             十二萌戦\n",
       "11485     20  0.960305            始まるんた\n",
       "11639      8  0.871537     寝るとき多分口呼吸たから\n",
       "11623      1  0.838044       屏風持ってないけとw\n",
       "11523     20  0.960304       年半最高に楽しかった\n",
       "11679     10  0.907217           引きこもりた\n",
       "11697      8  0.871537           心犹豫而狐疑\n",
       "10055     19  0.731553               愛知\n",
       "11524     20  0.960304         最後の総体も市内\n",
       "11698      8  0.871537         欲从灵氛之吉占兮\n",
       "11633     17  0.964078           的事业要承担\n",
       "11525     20  0.960304          県って優勝てき\n",
       "11634     17  0.964078               真挚\n",
       "11464     15  0.653618  素敵な企画ありかとうこさいます\n",
       "11635     17  0.964078              红薯蒸\n",
       "11625      9  0.838130            首にかふり\n",
       "7871       9  0.903514              김종현\n",
       "11579      8  0.871537              났는데\n",
       "11580      8  0.871537              러비들\n",
       "11581      8  0.871537               만표\n",
       "11582      8  0.871537             만표정도\n",
       "11487     16  0.961452             발밤발밤\n",
       "11583      8  0.871537              안나요\n",
       "11584      8  0.871537            역전합시댜\n",
       "11585      8  0.871537               전에\n",
       "11659     11  0.968865              쯔미나\n",
       "11586      8  0.871537              차이도\n",
       "5913      11  0.871465             트와이스\n",
       "11587      8  0.871537             하러가요\n",
       "\n",
       "[661 rows x 3 columns], R=30, lambda_step=0.01, plot_opts={'xlab': 'PC1', 'ylab': 'PC2'}, topic_order=[5, 11, 3, 9, 19, 2, 15, 1, 12, 7, 20, 16, 4, 6, 8, 14, 17, 13, 18, 10])"
      ]
     },
     "execution_count": 12,
     "metadata": {},
     "output_type": "execute_result"
    }
   ],
   "source": [
    "# Visualize the topics\n",
    "pyLDAvis.enable_notebook()\n",
    "vis = pyLDAvis.gensim.prepare(lda_model, corpus, id2word)\n",
    "vis"
   ]
  },
  {
   "cell_type": "markdown",
   "metadata": {},
   "source": [
    "# mallet"
   ]
  },
  {
   "cell_type": "code",
   "execution_count": 13,
   "metadata": {},
   "outputs": [
    {
     "ename": "CalledProcessError",
     "evalue": "Command '/mallet-2.0.8/bin/mallet import-file --preserve-case --keep-sequence --remove-stopwords --token-regex \"\\S+\" --input C:\\Users\\mathe\\AppData\\Local\\Temp\\57951d_corpus.txt --output C:\\Users\\mathe\\AppData\\Local\\Temp\\57951d_corpus.mallet' returned non-zero exit status 1.",
     "output_type": "error",
     "traceback": [
      "\u001b[1;31m---------------------------------------------------------------------------\u001b[0m",
      "\u001b[1;31mCalledProcessError\u001b[0m                        Traceback (most recent call last)",
      "\u001b[1;32m<ipython-input-13-4976b7fcf7a1>\u001b[0m in \u001b[0;36m<module>\u001b[1;34m\u001b[0m\n\u001b[0;32m      1\u001b[0m \u001b[1;31m#malletPath\u001b[0m\u001b[1;33m\u001b[0m\u001b[1;33m\u001b[0m\u001b[1;33m\u001b[0m\u001b[0m\n\u001b[0;32m      2\u001b[0m \u001b[0mmallet_path\u001b[0m \u001b[1;33m=\u001b[0m\u001b[1;34m'/mallet-2.0.8/bin/mallet'\u001b[0m\u001b[1;33m\u001b[0m\u001b[1;33m\u001b[0m\u001b[0m\n\u001b[1;32m----> 3\u001b[1;33m \u001b[0mldamallet\u001b[0m \u001b[1;33m=\u001b[0m \u001b[0mgensim\u001b[0m\u001b[1;33m.\u001b[0m\u001b[0mmodels\u001b[0m\u001b[1;33m.\u001b[0m\u001b[0mwrappers\u001b[0m\u001b[1;33m.\u001b[0m\u001b[0mLdaMallet\u001b[0m\u001b[1;33m(\u001b[0m\u001b[0mmallet_path\u001b[0m\u001b[1;33m,\u001b[0m \u001b[0mcorpus\u001b[0m\u001b[1;33m=\u001b[0m\u001b[0mcorpus\u001b[0m\u001b[1;33m,\u001b[0m \u001b[0mnum_topics\u001b[0m\u001b[1;33m=\u001b[0m\u001b[1;36m20\u001b[0m\u001b[1;33m,\u001b[0m \u001b[0mid2word\u001b[0m\u001b[1;33m=\u001b[0m\u001b[0mid2word\u001b[0m\u001b[1;33m)\u001b[0m\u001b[1;33m\u001b[0m\u001b[1;33m\u001b[0m\u001b[0m\n\u001b[0m\u001b[0;32m      4\u001b[0m \u001b[1;31m#Show topics\u001b[0m\u001b[1;33m\u001b[0m\u001b[1;33m\u001b[0m\u001b[1;33m\u001b[0m\u001b[0m\n\u001b[0;32m      5\u001b[0m \u001b[0mpprint\u001b[0m\u001b[1;33m(\u001b[0m\u001b[0mldamallet\u001b[0m\u001b[1;33m.\u001b[0m\u001b[0mshow_topics\u001b[0m\u001b[1;33m(\u001b[0m\u001b[0mformatted\u001b[0m\u001b[1;33m=\u001b[0m\u001b[1;32mFalse\u001b[0m\u001b[1;33m)\u001b[0m\u001b[1;33m)\u001b[0m\u001b[1;33m\u001b[0m\u001b[1;33m\u001b[0m\u001b[0m\n",
      "\u001b[1;32mc:\\python\\lib\\site-packages\\gensim\\models\\wrappers\\ldamallet.py\u001b[0m in \u001b[0;36m__init__\u001b[1;34m(self, mallet_path, corpus, num_topics, alpha, id2word, workers, prefix, optimize_interval, iterations, topic_threshold)\u001b[0m\n\u001b[0;32m    124\u001b[0m         \u001b[0mself\u001b[0m\u001b[1;33m.\u001b[0m\u001b[0miterations\u001b[0m \u001b[1;33m=\u001b[0m \u001b[0miterations\u001b[0m\u001b[1;33m\u001b[0m\u001b[1;33m\u001b[0m\u001b[0m\n\u001b[0;32m    125\u001b[0m         \u001b[1;32mif\u001b[0m \u001b[0mcorpus\u001b[0m \u001b[1;32mis\u001b[0m \u001b[1;32mnot\u001b[0m \u001b[1;32mNone\u001b[0m\u001b[1;33m:\u001b[0m\u001b[1;33m\u001b[0m\u001b[1;33m\u001b[0m\u001b[0m\n\u001b[1;32m--> 126\u001b[1;33m             \u001b[0mself\u001b[0m\u001b[1;33m.\u001b[0m\u001b[0mtrain\u001b[0m\u001b[1;33m(\u001b[0m\u001b[0mcorpus\u001b[0m\u001b[1;33m)\u001b[0m\u001b[1;33m\u001b[0m\u001b[1;33m\u001b[0m\u001b[0m\n\u001b[0m\u001b[0;32m    127\u001b[0m \u001b[1;33m\u001b[0m\u001b[0m\n\u001b[0;32m    128\u001b[0m     \u001b[1;32mdef\u001b[0m \u001b[0mfinferencer\u001b[0m\u001b[1;33m(\u001b[0m\u001b[0mself\u001b[0m\u001b[1;33m)\u001b[0m\u001b[1;33m:\u001b[0m\u001b[1;33m\u001b[0m\u001b[1;33m\u001b[0m\u001b[0m\n",
      "\u001b[1;32mc:\\python\\lib\\site-packages\\gensim\\models\\wrappers\\ldamallet.py\u001b[0m in \u001b[0;36mtrain\u001b[1;34m(self, corpus)\u001b[0m\n\u001b[0;32m    265\u001b[0m \u001b[1;33m\u001b[0m\u001b[0m\n\u001b[0;32m    266\u001b[0m         \"\"\"\n\u001b[1;32m--> 267\u001b[1;33m         \u001b[0mself\u001b[0m\u001b[1;33m.\u001b[0m\u001b[0mconvert_input\u001b[0m\u001b[1;33m(\u001b[0m\u001b[0mcorpus\u001b[0m\u001b[1;33m,\u001b[0m \u001b[0minfer\u001b[0m\u001b[1;33m=\u001b[0m\u001b[1;32mFalse\u001b[0m\u001b[1;33m)\u001b[0m\u001b[1;33m\u001b[0m\u001b[1;33m\u001b[0m\u001b[0m\n\u001b[0m\u001b[0;32m    268\u001b[0m         \u001b[0mcmd\u001b[0m \u001b[1;33m=\u001b[0m \u001b[0mself\u001b[0m\u001b[1;33m.\u001b[0m\u001b[0mmallet_path\u001b[0m \u001b[1;33m+\u001b[0m \u001b[1;34m' train-topics --input %s --num-topics %s  --alpha %s --optimize-interval %s '\u001b[0m\u001b[0;31m\\\u001b[0m\u001b[1;33m\u001b[0m\u001b[1;33m\u001b[0m\u001b[0m\n\u001b[0;32m    269\u001b[0m             \u001b[1;34m'--num-threads %s --output-state %s --output-doc-topics %s --output-topic-keys %s '\u001b[0m\u001b[0;31m\\\u001b[0m\u001b[1;33m\u001b[0m\u001b[1;33m\u001b[0m\u001b[0m\n",
      "\u001b[1;32mc:\\python\\lib\\site-packages\\gensim\\models\\wrappers\\ldamallet.py\u001b[0m in \u001b[0;36mconvert_input\u001b[1;34m(self, corpus, infer, serialize_corpus)\u001b[0m\n\u001b[0;32m    254\u001b[0m             \u001b[0mcmd\u001b[0m \u001b[1;33m=\u001b[0m \u001b[0mcmd\u001b[0m \u001b[1;33m%\u001b[0m \u001b[1;33m(\u001b[0m\u001b[0mself\u001b[0m\u001b[1;33m.\u001b[0m\u001b[0mfcorpustxt\u001b[0m\u001b[1;33m(\u001b[0m\u001b[1;33m)\u001b[0m\u001b[1;33m,\u001b[0m \u001b[0mself\u001b[0m\u001b[1;33m.\u001b[0m\u001b[0mfcorpusmallet\u001b[0m\u001b[1;33m(\u001b[0m\u001b[1;33m)\u001b[0m\u001b[1;33m)\u001b[0m\u001b[1;33m\u001b[0m\u001b[1;33m\u001b[0m\u001b[0m\n\u001b[0;32m    255\u001b[0m         \u001b[0mlogger\u001b[0m\u001b[1;33m.\u001b[0m\u001b[0minfo\u001b[0m\u001b[1;33m(\u001b[0m\u001b[1;34m\"converting temporary corpus to MALLET format with %s\"\u001b[0m\u001b[1;33m,\u001b[0m \u001b[0mcmd\u001b[0m\u001b[1;33m)\u001b[0m\u001b[1;33m\u001b[0m\u001b[1;33m\u001b[0m\u001b[0m\n\u001b[1;32m--> 256\u001b[1;33m         \u001b[0mcheck_output\u001b[0m\u001b[1;33m(\u001b[0m\u001b[0margs\u001b[0m\u001b[1;33m=\u001b[0m\u001b[0mcmd\u001b[0m\u001b[1;33m,\u001b[0m \u001b[0mshell\u001b[0m\u001b[1;33m=\u001b[0m\u001b[1;32mTrue\u001b[0m\u001b[1;33m)\u001b[0m\u001b[1;33m\u001b[0m\u001b[1;33m\u001b[0m\u001b[0m\n\u001b[0m\u001b[0;32m    257\u001b[0m \u001b[1;33m\u001b[0m\u001b[0m\n\u001b[0;32m    258\u001b[0m     \u001b[1;32mdef\u001b[0m \u001b[0mtrain\u001b[0m\u001b[1;33m(\u001b[0m\u001b[0mself\u001b[0m\u001b[1;33m,\u001b[0m \u001b[0mcorpus\u001b[0m\u001b[1;33m)\u001b[0m\u001b[1;33m:\u001b[0m\u001b[1;33m\u001b[0m\u001b[1;33m\u001b[0m\u001b[0m\n",
      "\u001b[1;32mc:\\python\\lib\\site-packages\\gensim\\utils.py\u001b[0m in \u001b[0;36mcheck_output\u001b[1;34m(stdout, *popenargs, **kwargs)\u001b[0m\n\u001b[0;32m   1877\u001b[0m             \u001b[0merror\u001b[0m \u001b[1;33m=\u001b[0m \u001b[0msubprocess\u001b[0m\u001b[1;33m.\u001b[0m\u001b[0mCalledProcessError\u001b[0m\u001b[1;33m(\u001b[0m\u001b[0mretcode\u001b[0m\u001b[1;33m,\u001b[0m \u001b[0mcmd\u001b[0m\u001b[1;33m)\u001b[0m\u001b[1;33m\u001b[0m\u001b[1;33m\u001b[0m\u001b[0m\n\u001b[0;32m   1878\u001b[0m             \u001b[0merror\u001b[0m\u001b[1;33m.\u001b[0m\u001b[0moutput\u001b[0m \u001b[1;33m=\u001b[0m \u001b[0moutput\u001b[0m\u001b[1;33m\u001b[0m\u001b[1;33m\u001b[0m\u001b[0m\n\u001b[1;32m-> 1879\u001b[1;33m             \u001b[1;32mraise\u001b[0m \u001b[0merror\u001b[0m\u001b[1;33m\u001b[0m\u001b[1;33m\u001b[0m\u001b[0m\n\u001b[0m\u001b[0;32m   1880\u001b[0m         \u001b[1;32mreturn\u001b[0m \u001b[0moutput\u001b[0m\u001b[1;33m\u001b[0m\u001b[1;33m\u001b[0m\u001b[0m\n\u001b[0;32m   1881\u001b[0m     \u001b[1;32mexcept\u001b[0m \u001b[0mKeyboardInterrupt\u001b[0m\u001b[1;33m:\u001b[0m\u001b[1;33m\u001b[0m\u001b[1;33m\u001b[0m\u001b[0m\n",
      "\u001b[1;31mCalledProcessError\u001b[0m: Command '/mallet-2.0.8/bin/mallet import-file --preserve-case --keep-sequence --remove-stopwords --token-regex \"\\S+\" --input C:\\Users\\mathe\\AppData\\Local\\Temp\\57951d_corpus.txt --output C:\\Users\\mathe\\AppData\\Local\\Temp\\57951d_corpus.mallet' returned non-zero exit status 1."
     ]
    }
   ],
   "source": [
    "#malletPath\n",
    "mallet_path ='/mallet-2.0.8/bin/mallet'\n",
    "ldamallet = gensim.models.wrappers.LdaMallet(mallet_path, corpus=corpus, num_topics=20, id2word=id2word)\n",
    "#Show topics\n",
    "pprint(ldamallet.show_topics(formatted=False))\n",
    "# Compute Coherence Score\n",
    "coherence_model_ldamallet = CoherenceModel(model=ldamallet, texts=data_lemmatized, dictionary=id2word, coherence='c_v')\n",
    "coherence_ldamallet = coherence_model_ldamallet.get_coherence()\n",
    "print('\\nCoherence Score: ', coherence_ldamallet)"
   ]
  },
  {
   "cell_type": "code",
   "execution_count": null,
   "metadata": {},
   "outputs": [],
   "source": []
  }
 ],
 "metadata": {
  "kernelspec": {
   "display_name": "Python 3",
   "language": "python",
   "name": "python3"
  },
  "language_info": {
   "codemirror_mode": {
    "name": "ipython",
    "version": 3
   },
   "file_extension": ".py",
   "mimetype": "text/x-python",
   "name": "python",
   "nbconvert_exporter": "python",
   "pygments_lexer": "ipython3",
   "version": "3.7.1"
  }
 },
 "nbformat": 4,
 "nbformat_minor": 2
}
